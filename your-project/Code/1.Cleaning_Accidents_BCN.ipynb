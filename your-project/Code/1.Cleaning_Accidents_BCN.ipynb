{
 "cells": [
  {
   "cell_type": "markdown",
   "metadata": {},
   "source": [
    "## Data Cleaning Accidents BCN:\n",
    "#### In this Jupyter Notebook you will find the process of data cleaning of a dataset from Ajuntament de Barcelona Open Data on vehicles involved in accident."
   ]
  },
  {
   "cell_type": "markdown",
   "metadata": {},
   "source": [
    "First we import the libraries we are going to use."
   ]
  },
  {
   "cell_type": "code",
   "execution_count": 1,
   "metadata": {},
   "outputs": [],
   "source": [
    "import numpy as np\n",
    "import pandas as pd\n",
    "import re"
   ]
  },
  {
   "cell_type": "markdown",
   "metadata": {},
   "source": [
    "Import data and assign to variable 'acc' which stands for accident."
   ]
  },
  {
   "cell_type": "code",
   "execution_count": 2,
   "metadata": {},
   "outputs": [],
   "source": [
    "acc = pd.read_csv('../Data/Raw_data/vehicles_accident.csv', encoding='utf-8', sep = ';',dtype = 'object')"
   ]
  },
  {
   "cell_type": "markdown",
   "metadata": {},
   "source": [
    "I examine the data that I have imported."
   ]
  },
  {
   "cell_type": "code",
   "execution_count": 3,
   "metadata": {},
   "outputs": [
    {
     "data": {
      "text/html": [
       "<div>\n",
       "<style scoped>\n",
       "    .dataframe tbody tr th:only-of-type {\n",
       "        vertical-align: middle;\n",
       "    }\n",
       "\n",
       "    .dataframe tbody tr th {\n",
       "        vertical-align: top;\n",
       "    }\n",
       "\n",
       "    .dataframe thead th {\n",
       "        text-align: right;\n",
       "    }\n",
       "</style>\n",
       "<table border=\"1\" class=\"dataframe\">\n",
       "  <thead>\n",
       "    <tr style=\"text-align: right;\">\n",
       "      <th></th>\n",
       "      <th>Codi_expedient</th>\n",
       "      <th>Codi_districte</th>\n",
       "      <th>Nom_districte</th>\n",
       "      <th>Codi_barri</th>\n",
       "      <th>Nom_barri</th>\n",
       "      <th>Codi_carrer</th>\n",
       "      <th>Nom_carrer</th>\n",
       "      <th>Num_postal</th>\n",
       "      <th>Descripcio_dia_setmana</th>\n",
       "      <th>Dia_setmana</th>\n",
       "      <th>...</th>\n",
       "      <th>Descripcio_tipus_vehicle</th>\n",
       "      <th>Descripcio_model</th>\n",
       "      <th>Descripcio_marca</th>\n",
       "      <th>Descripcio_color</th>\n",
       "      <th>Descripcio_carnet</th>\n",
       "      <th>Antiguitat_carnet</th>\n",
       "      <th>Coordenada_UTM_X</th>\n",
       "      <th>Coordenada_UTM_Y</th>\n",
       "      <th>Longitud</th>\n",
       "      <th>Latitud</th>\n",
       "    </tr>\n",
       "  </thead>\n",
       "  <tbody>\n",
       "    <tr>\n",
       "      <th>45100</th>\n",
       "      <td>2016S001560</td>\n",
       "      <td>2</td>\n",
       "      <td>Eixample</td>\n",
       "      <td>7</td>\n",
       "      <td>la Dreta de l'Eixample</td>\n",
       "      <td>247659</td>\n",
       "      <td>Pau Claris</td>\n",
       "      <td>9999 9999</td>\n",
       "      <td>Diumenge</td>\n",
       "      <td>Dg</td>\n",
       "      <td>...</td>\n",
       "      <td>Taxi</td>\n",
       "      <td>OCTAVIA</td>\n",
       "      <td>SKODA</td>\n",
       "      <td>Altres</td>\n",
       "      <td>BTP</td>\n",
       "      <td>33</td>\n",
       "      <td>430023,88</td>\n",
       "      <td>4583353,85</td>\n",
       "      <td>2,161784</td>\n",
       "      <td>41,396826</td>\n",
       "    </tr>\n",
       "    <tr>\n",
       "      <th>83668</th>\n",
       "      <td>2014S008346</td>\n",
       "      <td>1</td>\n",
       "      <td>Ciutat Vella</td>\n",
       "      <td>4</td>\n",
       "      <td>Sant Pere, Santa Caterina i la Ribera</td>\n",
       "      <td>198203</td>\n",
       "      <td>Marquès de l'Argentera</td>\n",
       "      <td>0001 0001</td>\n",
       "      <td>Dijous</td>\n",
       "      <td>Dj</td>\n",
       "      <td>...</td>\n",
       "      <td>Bicicleta</td>\n",
       "      <td>Desconegut</td>\n",
       "      <td>Desconegut</td>\n",
       "      <td>Desconegut</td>\n",
       "      <td>Desconegut</td>\n",
       "      <td>Desconegut</td>\n",
       "      <td>4581836,63</td>\n",
       "      <td>431836,96</td>\n",
       "      <td>NaN</td>\n",
       "      <td>NaN</td>\n",
       "    </tr>\n",
       "    <tr>\n",
       "      <th>17303</th>\n",
       "      <td>2018S001902</td>\n",
       "      <td>2</td>\n",
       "      <td>Eixample</td>\n",
       "      <td>7</td>\n",
       "      <td>la Dreta de l'Eixample</td>\n",
       "      <td>305100</td>\n",
       "      <td>ProvenÃ§a / Sant Joan                         ...</td>\n",
       "      <td>NaN</td>\n",
       "      <td>Dijous</td>\n",
       "      <td>Dj</td>\n",
       "      <td>...</td>\n",
       "      <td>Bicicleta</td>\n",
       "      <td>Desconegut</td>\n",
       "      <td>Desconegut</td>\n",
       "      <td>Desconegut</td>\n",
       "      <td>Desconegut</td>\n",
       "      <td>Desconegut</td>\n",
       "      <td>430599.12</td>\n",
       "      <td>4583712.76</td>\n",
       "      <td>2.168.634</td>\n",
       "      <td>41.400.116</td>\n",
       "    </tr>\n",
       "    <tr>\n",
       "      <th>10629</th>\n",
       "      <td>2018S008466</td>\n",
       "      <td>4</td>\n",
       "      <td>Les Corts</td>\n",
       "      <td>20</td>\n",
       "      <td>la Maternitat i Sant Ramon</td>\n",
       "      <td>23800</td>\n",
       "      <td>Arizala                                       ...</td>\n",
       "      <td>NaN</td>\n",
       "      <td>Dilluns</td>\n",
       "      <td>Dl</td>\n",
       "      <td>...</td>\n",
       "      <td>Motocicleta</td>\n",
       "      <td>XSR 700</td>\n",
       "      <td>YAMAHA</td>\n",
       "      <td>Negre</td>\n",
       "      <td>A1</td>\n",
       "      <td>2</td>\n",
       "      <td>426803.69</td>\n",
       "      <td>4581349.76</td>\n",
       "      <td>212.352</td>\n",
       "      <td>41.378.497</td>\n",
       "    </tr>\n",
       "    <tr>\n",
       "      <th>54326</th>\n",
       "      <td>2016S001356</td>\n",
       "      <td>8</td>\n",
       "      <td>Nou Barris</td>\n",
       "      <td>50</td>\n",
       "      <td>les Roquetes</td>\n",
       "      <td>120807</td>\n",
       "      <td>Favència</td>\n",
       "      <td>0199 0199</td>\n",
       "      <td>Diumenge</td>\n",
       "      <td>Dg</td>\n",
       "      <td>...</td>\n",
       "      <td>Furgoneta</td>\n",
       "      <td>JUMPER</td>\n",
       "      <td>CITROEN</td>\n",
       "      <td>Blanc</td>\n",
       "      <td>B</td>\n",
       "      <td>10</td>\n",
       "      <td>431237,9</td>\n",
       "      <td>4588727,86</td>\n",
       "      <td>2,175693</td>\n",
       "      <td>41,445332</td>\n",
       "    </tr>\n",
       "  </tbody>\n",
       "</table>\n",
       "<p>5 rows × 28 columns</p>\n",
       "</div>"
      ],
      "text/plain": [
       "        Codi_expedient Codi_districte Nom_districte Codi_barri  \\\n",
       "45100  2016S001560                  2      Eixample          7   \n",
       "83668      2014S008346              1  Ciutat Vella          4   \n",
       "17303  2018S001902                  2      Eixample          7   \n",
       "10629  2018S008466                  4     Les Corts         20   \n",
       "54326  2016S001356                  8    Nou Barris         50   \n",
       "\n",
       "                                   Nom_barri Codi_carrer  \\\n",
       "45100                 la Dreta de l'Eixample      247659   \n",
       "83668  Sant Pere, Santa Caterina i la Ribera      198203   \n",
       "17303                 la Dreta de l'Eixample      305100   \n",
       "10629             la Maternitat i Sant Ramon       23800   \n",
       "54326                           les Roquetes      120807   \n",
       "\n",
       "                                              Nom_carrer Num_postal   \\\n",
       "45100                                         Pau Claris   9999 9999   \n",
       "83668                             Marquès de l'Argentera   0001 0001   \n",
       "17303  ProvenÃ§a / Sant Joan                         ...         NaN   \n",
       "10629  Arizala                                       ...         NaN   \n",
       "54326                                           Favència   0199 0199   \n",
       "\n",
       "      Descripcio_dia_setmana Dia_setmana  ... Descripcio_tipus_vehicle  \\\n",
       "45100               Diumenge          Dg  ...                     Taxi   \n",
       "83668                 Dijous          Dj  ...                Bicicleta   \n",
       "17303                 Dijous          Dj  ...                Bicicleta   \n",
       "10629                Dilluns          Dl  ...              Motocicleta   \n",
       "54326               Diumenge          Dg  ...                Furgoneta   \n",
       "\n",
       "      Descripcio_model Descripcio_marca Descripcio_color Descripcio_carnet  \\\n",
       "45100          OCTAVIA            SKODA           Altres               BTP   \n",
       "83668       Desconegut       Desconegut       Desconegut        Desconegut   \n",
       "17303       Desconegut       Desconegut       Desconegut        Desconegut   \n",
       "10629          XSR 700           YAMAHA            Negre                A1   \n",
       "54326           JUMPER          CITROEN            Blanc                 B   \n",
       "\n",
       "      Antiguitat_carnet Coordenada_UTM_X Coordenada_UTM_Y   Longitud  \\\n",
       "45100                33        430023,88       4583353,85   2,161784   \n",
       "83668        Desconegut       4581836,63        431836,96        NaN   \n",
       "17303        Desconegut       430599.12        4583712.76  2.168.634   \n",
       "10629                 2       426803.69        4581349.76    212.352   \n",
       "54326                10         431237,9       4588727,86   2,175693   \n",
       "\n",
       "          Latitud  \n",
       "45100   41,396826  \n",
       "83668         NaN  \n",
       "17303  41.400.116  \n",
       "10629  41.378.497  \n",
       "54326   41,445332  \n",
       "\n",
       "[5 rows x 28 columns]"
      ]
     },
     "execution_count": 3,
     "metadata": {},
     "output_type": "execute_result"
    }
   ],
   "source": [
    "acc.sample(5)"
   ]
  },
  {
   "cell_type": "markdown",
   "metadata": {},
   "source": [
    "As I want to study which common characteristics the vehicles involved in an accident have, there are some columns that I won't use, so I will drop them."
   ]
  },
  {
   "cell_type": "code",
   "execution_count": 4,
   "metadata": {},
   "outputs": [
    {
     "data": {
      "text/plain": [
       "Index(['Codi_expedient', 'Codi_districte', 'Nom_districte', 'Codi_barri',\n",
       "       'Nom_barri', 'Codi_carrer', 'Nom_carrer', 'Num_postal ',\n",
       "       'Descripcio_dia_setmana', 'Dia_setmana', 'Descripcio_tipus_dia', 'Any',\n",
       "       'Mes_any', 'Nom_mes', 'Dia_mes', 'Hora_dia', 'Descripcio_torn',\n",
       "       'Descripcio_causa_vianant', 'Descripcio_tipus_vehicle',\n",
       "       'Descripcio_model', 'Descripcio_marca', 'Descripcio_color',\n",
       "       'Descripcio_carnet', 'Antiguitat_carnet', 'Coordenada_UTM_X',\n",
       "       'Coordenada_UTM_Y', 'Longitud', 'Latitud'],\n",
       "      dtype='object')"
      ]
     },
     "execution_count": 4,
     "metadata": {},
     "output_type": "execute_result"
    }
   ],
   "source": [
    "acc.columns #Checking the names of the columns."
   ]
  },
  {
   "cell_type": "code",
   "execution_count": 5,
   "metadata": {},
   "outputs": [],
   "source": [
    "#Dropping columns that I will not be using.\n",
    "acc.drop(columns = ['Codi_districte', 'Nom_districte', 'Codi_barri', \\\n",
    "                    'Nom_barri', 'Codi_carrer', 'Nom_carrer', 'Num_postal ', \\\n",
    "                    'Descripcio_dia_setmana', 'Dia_setmana', 'Descripcio_tipus_dia', 'Any', \\\n",
    "                    'Mes_any', 'Nom_mes', 'Dia_mes', 'Hora_dia', 'Descripcio_torn',\\\n",
    "                    'Descripcio_causa_vianant','Descripcio_carnet','Coordenada_UTM_X',\\\n",
    "                    'Coordenada_UTM_Y', 'Longitud', 'Latitud','Descripcio_model' ], inplace = True)"
   ]
  },
  {
   "cell_type": "markdown",
   "metadata": {},
   "source": [
    "I will now change the name of the columns so that they are more self-explanatory."
   ]
  },
  {
   "cell_type": "code",
   "execution_count": 6,
   "metadata": {},
   "outputs": [],
   "source": [
    "acc.rename(columns = {'Codi_expedient': 'Accident_code', 'Descripcio_tipus_vehicle':'Vehicle_type', \n",
    "                      'Descripcio_marca':'Brand','Descripcio_color':'Color', 'Antiguitat_carnet':'Years_license'},\n",
    "          inplace = True)"
   ]
  },
  {
   "cell_type": "markdown",
   "metadata": {},
   "source": [
    "Checking datatypes. I will change the type of Years_license at the end, since it has some values as Desconegut (Unknown) that don't let me change directly the data type."
   ]
  },
  {
   "cell_type": "code",
   "execution_count": 7,
   "metadata": {},
   "outputs": [
    {
     "name": "stdout",
     "output_type": "stream",
     "text": [
      "<class 'pandas.core.frame.DataFrame'>\n",
      "RangeIndex: 96125 entries, 0 to 96124\n",
      "Data columns (total 5 columns):\n",
      "Accident_code    96124 non-null object\n",
      "Vehicle_type     96124 non-null object\n",
      "Brand            96124 non-null object\n",
      "Color            96124 non-null object\n",
      "Years_license    96124 non-null object\n",
      "dtypes: object(5)\n",
      "memory usage: 3.7+ MB\n"
     ]
    }
   ],
   "source": [
    "acc.info()"
   ]
  },
  {
   "cell_type": "markdown",
   "metadata": {},
   "source": [
    "##### Vehicle_type column:\n",
    "\n",
    "Moreover, I will change the values of the columns Vehicle_type and Color to make it more understandable. First, I will explore which are the values of Vehicle_Type."
   ]
  },
  {
   "cell_type": "code",
   "execution_count": 8,
   "metadata": {},
   "outputs": [
    {
     "data": {
      "text/plain": [
       "Motocicleta                            30293\n",
       "Turismo                                25908\n",
       "Turisme                                13616\n",
       "Furgoneta                               6128\n",
       "Ciclomotor                              5332\n",
       "Taxi                                    5092\n",
       "Bicicleta                               3849\n",
       "Autobús                                 1995\n",
       "Camión <= 3,5 Tm                         952\n",
       "AutobÃºs                                 476\n",
       "Camión > 3,5 Tm                          423\n",
       "CamiÃ_ rÃ_gid <= 3,5 tones               280\n",
       "Camió rígid <= 3,5 tones                 208\n",
       "CamiÃ_ rÃ_gid > 3,5 tones                169\n",
       "Autocar                                  161\n",
       "Tractocamión                             150\n",
       "Todo terreno                             148\n",
       "Veh. mobilitat personal amb motor        128\n",
       "Camió rígid > 3,5 tones                   98\n",
       "Otros vehíc. a motor                      86\n",
       "Tot terreny                               80\n",
       "Altres vehicles amb motor                 62\n",
       "AutobÃºs articulat                        58\n",
       "Tractor camiÃ_                            54\n",
       "Tranvía o tren                            46\n",
       "Autobús articulado                        46\n",
       "Autobús articulat                         41\n",
       "Tren o tramvia                            33\n",
       "Desconegut                                31\n",
       "Tractor camió                             30\n",
       "Altres vehicles sense motor               28\n",
       "Cuadriciclo <75cc                         22\n",
       "Maquinària d'obres i serveis              18\n",
       "MaquinÃ ria d'obres i serveis             14\n",
       "Maquinaria de obras                       13\n",
       "Veh. mobilitat personal sense motor       12\n",
       "Autocaravana                              12\n",
       "Microbus <=17 plazas                       7\n",
       "Cuadriciclo >=75cc                         7\n",
       "MicrobÃºs <= 17                            6\n",
       "Quadricicle > 75 cc                        5\n",
       "Quadricicle < 75 cc                        4\n",
       "Carro                                      2\n",
       "Microbus <= 17                             1\n",
       "Name: Vehicle_type, dtype: int64"
      ]
     },
     "execution_count": 8,
     "metadata": {},
     "output_type": "execute_result"
    }
   ],
   "source": [
    "acc['Vehicle_type'].value_counts() #Checking the values of Vehicle_type."
   ]
  },
  {
   "cell_type": "markdown",
   "metadata": {},
   "source": [
    "Since I am studying the common elements between accidents, I will get rid of all the values except for cars and bikes. First, I will unify the names to Cars and bikes and then I will get rid of the other types of vehicles."
   ]
  },
  {
   "cell_type": "code",
   "execution_count": 9,
   "metadata": {},
   "outputs": [],
   "source": [
    "acc['Vehicle_type'].replace({'Turisme':'Car', 'Turismo':'Car', 'Todo terreno':'Car', \\\n",
    "                             'Tot terreny':'Car','Motocicleta':'Bike','Ciclomotor':'Bike'}, inplace = True)"
   ]
  },
  {
   "cell_type": "markdown",
   "metadata": {},
   "source": [
    "Now I am getting rid of the other types of vehicles different than Car and Bike."
   ]
  },
  {
   "cell_type": "code",
   "execution_count": 10,
   "metadata": {},
   "outputs": [],
   "source": [
    "#Updating variable acc since it is the only information that we will be using.\n",
    "acc = acc.query('Vehicle_type == \"Car\" | Vehicle_type == \"Bike\"')"
   ]
  },
  {
   "cell_type": "markdown",
   "metadata": {},
   "source": [
    "##### Brand Column\n",
    "\n",
    "Let's move to the column Brand. We can see that there are many brands with points and spaces, so I will get rid of them."
   ]
  },
  {
   "cell_type": "code",
   "execution_count": 11,
   "metadata": {},
   "outputs": [
    {
     "data": {
      "text/plain": [
       "['SEAT',\n",
       " 'PEUGEOT',\n",
       " 'RENAULT',\n",
       " 'Desconegut',\n",
       " 'FORD',\n",
       " 'HONDA',\n",
       " 'SYM',\n",
       " 'BMW',\n",
       " 'A.U.D.I.',\n",
       " 'OPEL',\n",
       " 'PIAGGIO',\n",
       " 'KIA',\n",
       " 'YAMAHA',\n",
       " 'VOLKSWAGEN',\n",
       " 'SKODA',\n",
       " 'APRILIA',\n",
       " 'HARLEY DAVIDSON',\n",
       " 'MERCEDES',\n",
       " 'EMCO',\n",
       " 'KAWASAKI',\n",
       " 'LANCIA',\n",
       " 'AUDI',\n",
       " 'KYMCO',\n",
       " 'FIAT',\n",
       " 'TOYOTA',\n",
       " 'MAZDA',\n",
       " 'KEEWAY',\n",
       " 'CITROEN',\n",
       " 'DAEWOO',\n",
       " 'KTM',\n",
       " 'A U D I',\n",
       " 'DAELIM',\n",
       " 'S.Y.M',\n",
       " 'DACIA',\n",
       " 'DODGE',\n",
       " 'NISSAN',\n",
       " 'HYUNDAI',\n",
       " 'DERBI',\n",
       " 'SUZUKI',\n",
       " 'LAND ROVER',\n",
       " 'GILERA',\n",
       " 'MONTESA',\n",
       " 'MINI',\n",
       " 'HYOSUNG',\n",
       " 'ALFA ROMEO',\n",
       " 'GOVECS',\n",
       " 'SCUTUM',\n",
       " 'TRIUMPH',\n",
       " 'SMART',\n",
       " 'YIYING',\n",
       " 'VOLVO',\n",
       " 'JEEP',\n",
       " 'TATA',\n",
       " 'LEXUS',\n",
       " 'HUSQVARNA',\n",
       " 'PORSCHE',\n",
       " 'MITSUBISHI',\n",
       " 'CHEVROLET',\n",
       " 'BENELLI',\n",
       " 'MASH',\n",
       " 'SUMCO',\n",
       " 'BUELL',\n",
       " 'B.M.W.',\n",
       " 'CHRYSLER',\n",
       " 'VESPA',\n",
       " 'ES DESCONEIX',\n",
       " 'Brixton',\n",
       " 'JAGUAR',\n",
       " 'B M W',\n",
       " 'RIEJU',\n",
       " 'DUCATI',\n",
       " 'SSANGYONG',\n",
       " 'BETA',\n",
       " 'SAAB',\n",
       " 'SUBARU',\n",
       " 'HANWAY',\n",
       " 'INFINITI',\n",
       " 'COOLTRA',\n",
       " 'IRISBUS',\n",
       " 'GAS-GAS',\n",
       " 'MERCEDES-BENZ',\n",
       " 'TISONG',\n",
       " 'MBK',\n",
       " 'MV AUGUSTA',\n",
       " 'CPI',\n",
       " 'GENERIC',\n",
       " 'GUZZI',\n",
       " 'WOTTAN',\n",
       " 'SCOMADI',\n",
       " 'TORROT',\n",
       " 'MALAGUTI',\n",
       " 'TGB',\n",
       " 'JAGUAR LAND ROV',\n",
       " 'TRUEBA',\n",
       " 'LEONART',\n",
       " 'CSR',\n",
       " 'VESPINO',\n",
       " 'MECEDES',\n",
       " 'ROVER',\n",
       " 'IVECO FIAT',\n",
       " 'FERRARI',\n",
       " 'MASERATI',\n",
       " 'MERCEDES B',\n",
       " 'K.T.M.',\n",
       " 'MAURICIO',\n",
       " 'OSSA',\n",
       " 'AIYUMO',\n",
       " 'BERGADANA',\n",
       " 'LML',\n",
       " 'KSR MOTO',\n",
       " 'BULTACO',\n",
       " 'KSR',\n",
       " 'LAVERDA',\n",
       " 'GOING GREEN',\n",
       " 'ROYAL ENFIELD',\n",
       " 'MH MOTORCYCLES',\n",
       " 'IVECO BUS',\n",
       " 'MAC CORMICK',\n",
       " 'ITALJET',\n",
       " 'LINCOLN',\n",
       " 'MOTOR HISPANIA',\n",
       " 'MONDIAL',\n",
       " 'SANTANA',\n",
       " 'MAN',\n",
       " 'MOTO GUZZI',\n",
       " 'GALLOPER',\n",
       " 'VOXAN',\n",
       " 'DAIHATSU',\n",
       " 'TECNUVE',\n",
       " 'CAGIVA',\n",
       " 'BTWIN',\n",
       " 'MACBOR',\n",
       " 'HAOTIAN',\n",
       " 'LAMBRETTA',\n",
       " 'CADILLAC',\n",
       " 'FAZTEK',\n",
       " 'DAF-HERMANNS',\n",
       " 'LINHAI',\n",
       " 'QINGQI',\n",
       " 'SANYANG',\n",
       " 'GOWINN',\n",
       " 'HUMMER',\n",
       " 'SANGLAS',\n",
       " 'XINGYUE',\n",
       " 'ASTON MARTIN',\n",
       " 'TRIGGER',\n",
       " 'MICROCAR',\n",
       " 'FYM',\n",
       " 'HM',\n",
       " 'ZNEN',\n",
       " 'ZONGSHEN',\n",
       " 'VECTRIX',\n",
       " 'ALDY',\n",
       " 'VICTORY MOTOR D',\n",
       " 'ROLLS-ROYCE',\n",
       " 'MG',\n",
       " 'ERIDER',\n",
       " 'MTR',\n",
       " 'MOTORMANIA',\n",
       " 'JINLUN',\n",
       " 'BTM',\n",
       " 'SAMADA',\n",
       " 'MONKEY BIKES',\n",
       " 'SETRA',\n",
       " 'RIDE',\n",
       " 'BYD',\n",
       " 'MAHINDRA',\n",
       " 'DAIMLER',\n",
       " 'PIONEER',\n",
       " 'ISUZU',\n",
       " 'YIBEN',\n",
       " 'JONWAY ITALIA',\n",
       " 'V MOTO',\n",
       " 'HAMM',\n",
       " 'BSA',\n",
       " 'GUOBEN',\n",
       " 'FMC',\n",
       " 'AUSTIN',\n",
       " 'CITADIS',\n",
       " 'BRAMMO',\n",
       " 'KENROD',\n",
       " 'CLIPIC',\n",
       " 'Moto GAC',\n",
       " 'LADA',\n",
       " 'PGO',\n",
       " 'CHUANL',\n",
       " 'CF Moto',\n",
       " 'WANGYE',\n",
       " 'WUYANG',\n",
       " 'BENTLEY',\n",
       " 'BAOTIAN',\n",
       " 'BIMOTA']"
      ]
     },
     "execution_count": 11,
     "metadata": {},
     "output_type": "execute_result"
    }
   ],
   "source": [
    "list(acc['Brand'].unique()) \n",
    "#Seeing the unique values for Brands, if I used value_counts, it didn't print all the values."
   ]
  },
  {
   "cell_type": "code",
   "execution_count": 12,
   "metadata": {},
   "outputs": [],
   "source": [
    "acc['Brand'] = acc['Brand'].apply(lambda x: x.replace('.','')) #Getting rid of points."
   ]
  },
  {
   "cell_type": "code",
   "execution_count": 13,
   "metadata": {},
   "outputs": [],
   "source": [
    "acc['Brand'] = acc['Brand'].apply(lambda x: x.replace(' ','')) #Getting rid of additional spaces."
   ]
  },
  {
   "cell_type": "markdown",
   "metadata": {},
   "source": [
    "There are some brands that have more information in the brand name, hence, I will only keep the brand name."
   ]
  },
  {
   "cell_type": "code",
   "execution_count": 14,
   "metadata": {},
   "outputs": [],
   "source": [
    "acc['Brand'] = acc['Brand'].apply(lambda x: re.sub('MERCED.*','MERCEDES',x)) #Doing the above explained to MERCEDES."
   ]
  },
  {
   "cell_type": "code",
   "execution_count": 15,
   "metadata": {},
   "outputs": [],
   "source": [
    "acc['Brand'] = acc['Brand'].apply(lambda x: re.sub('JAGUAR.*','JAGUAR',x)) #Doing the above explained to JAGUAR."
   ]
  },
  {
   "cell_type": "code",
   "execution_count": 16,
   "metadata": {},
   "outputs": [],
   "source": [
    "acc['Brand'].replace({'ESDESCONEIX':'Unknown','Desconegut':'Unknown'}, inplace = True) #Uniforming unknown values."
   ]
  },
  {
   "cell_type": "markdown",
   "metadata": {},
   "source": [
    "##### Column Color:"
   ]
  },
  {
   "cell_type": "code",
   "execution_count": 17,
   "metadata": {},
   "outputs": [
    {
     "data": {
      "text/plain": [
       "array(['Blanc', 'Blau', 'Negre', 'Desconegut', 'Vermell', 'Gris', 'Verd',\n",
       "       'MarrÃ_', 'Platejat', 'Taronja', 'granate', 'Altres', 'Violeta',\n",
       "       'Groc', 'Negre/Groc', 'Beige', 'Daurat', 'Rosa', 'Marró'],\n",
       "      dtype=object)"
      ]
     },
     "execution_count": 17,
     "metadata": {},
     "output_type": "execute_result"
    }
   ],
   "source": [
    "acc['Color'].unique()"
   ]
  },
  {
   "cell_type": "markdown",
   "metadata": {},
   "source": [
    "There are some values that have special characters and I have decided to translate it into English."
   ]
  },
  {
   "cell_type": "code",
   "execution_count": 18,
   "metadata": {},
   "outputs": [],
   "source": [
    "acc['Color'].replace({'Blanc':'White', 'Blau':'Blue', 'Negre':'Black', 'Desconegut':'Unknown',\n",
    "                      'Vermell':'Red', 'Gris':'Grey', 'Verd':'Green','MarrÃ_':'Brown',\n",
    "                      'Platejat':'Silver', 'Taronja':'Orange', 'granate':'Red', 'Altres':'Unknown',\n",
    "                      'Violeta':'Purple','Groc':'Yellow', 'Negre/Groc':'Black-Yellow',\n",
    "                      'Beige':'White', 'Daurat':'Golden', 'Rosa':'Purple', 'Marró':'Brown'}, inplace = True)"
   ]
  },
  {
   "cell_type": "markdown",
   "metadata": {},
   "source": [
    "##### Column Years_license:"
   ]
  },
  {
   "cell_type": "code",
   "execution_count": 19,
   "metadata": {},
   "outputs": [
    {
     "data": {
      "text/plain": [
       "array(['5', '1', '2', 'Desconegut', '19', '12', '10', '23', '18', '22',\n",
       "       '4', '11', '13', '17', '21', '29', '28', '14', '8', '15', '32',\n",
       "       '34', '7', '46', '38', '6', '3', '9', '20', '50', '0', '25', '16',\n",
       "       '27', '33', '39', '40', '24', '35', '41', '36', '52', '31', '30',\n",
       "       '26', '51', '37', '58', '48', '45', '42', '44', '43', '54', '47',\n",
       "       '60', '56', '53', '55', '49', '57', '61', '64', '63', '65', '68',\n",
       "       '59', '66', '71', '67', '62', '-46', '69', '-189', '73', '-5',\n",
       "       '-47', '-2', '1818', '-484', '-972', '-70', '-947', '-41', '-48',\n",
       "       '-45', '-28', '1018', '-969'], dtype=object)"
      ]
     },
     "execution_count": 19,
     "metadata": {},
     "output_type": "execute_result"
    }
   ],
   "source": [
    "acc['Years_license'].unique()"
   ]
  },
  {
   "cell_type": "markdown",
   "metadata": {},
   "source": [
    "Let's get rid of the 'Desconegut' values, I will first assign them to a -999 values so that I continue having easy track of them."
   ]
  },
  {
   "cell_type": "code",
   "execution_count": 20,
   "metadata": {},
   "outputs": [],
   "source": [
    "acc['Years_license'].replace({'Desconegut':'-999'}, inplace = True)"
   ]
  },
  {
   "cell_type": "markdown",
   "metadata": {},
   "source": [
    "Now, I will change the datatype into integer."
   ]
  },
  {
   "cell_type": "code",
   "execution_count": 21,
   "metadata": {},
   "outputs": [],
   "source": [
    "acc['Years_license'] = acc['Years_license'].astype('int')"
   ]
  },
  {
   "cell_type": "markdown",
   "metadata": {},
   "source": [
    "There are some strange values (negative & >1000 years). Let's examine them:"
   ]
  },
  {
   "cell_type": "code",
   "execution_count": 47,
   "metadata": {},
   "outputs": [
    {
     "data": {
      "text/html": [
       "<div>\n",
       "<style scoped>\n",
       "    .dataframe tbody tr th:only-of-type {\n",
       "        vertical-align: middle;\n",
       "    }\n",
       "\n",
       "    .dataframe tbody tr th {\n",
       "        vertical-align: top;\n",
       "    }\n",
       "\n",
       "    .dataframe thead th {\n",
       "        text-align: right;\n",
       "    }\n",
       "</style>\n",
       "<table border=\"1\" class=\"dataframe\">\n",
       "  <thead>\n",
       "    <tr style=\"text-align: right;\">\n",
       "      <th></th>\n",
       "      <th>Accident_code</th>\n",
       "      <th>Vehicle_type</th>\n",
       "      <th>Brand</th>\n",
       "      <th>Color</th>\n",
       "      <th>Years_license</th>\n",
       "    </tr>\n",
       "  </thead>\n",
       "  <tbody>\n",
       "    <tr>\n",
       "      <th>8</th>\n",
       "      <td>2018S006793</td>\n",
       "      <td>Car</td>\n",
       "      <td>Unknown</td>\n",
       "      <td>Unknown</td>\n",
       "      <td>-999</td>\n",
       "    </tr>\n",
       "    <tr>\n",
       "      <th>14</th>\n",
       "      <td>2018S009491</td>\n",
       "      <td>Bike</td>\n",
       "      <td>SYM</td>\n",
       "      <td>White</td>\n",
       "      <td>-999</td>\n",
       "    </tr>\n",
       "    <tr>\n",
       "      <th>15</th>\n",
       "      <td>2018S009491</td>\n",
       "      <td>Car</td>\n",
       "      <td>BMW</td>\n",
       "      <td>Grey</td>\n",
       "      <td>-999</td>\n",
       "    </tr>\n",
       "    <tr>\n",
       "      <th>58</th>\n",
       "      <td>2018S003738</td>\n",
       "      <td>Bike</td>\n",
       "      <td>HONDA</td>\n",
       "      <td>White</td>\n",
       "      <td>-999</td>\n",
       "    </tr>\n",
       "    <tr>\n",
       "      <th>60</th>\n",
       "      <td>2018S003738</td>\n",
       "      <td>Car</td>\n",
       "      <td>Unknown</td>\n",
       "      <td>Unknown</td>\n",
       "      <td>-999</td>\n",
       "    </tr>\n",
       "    <tr>\n",
       "      <th>...</th>\n",
       "      <td>...</td>\n",
       "      <td>...</td>\n",
       "      <td>...</td>\n",
       "      <td>...</td>\n",
       "      <td>...</td>\n",
       "    </tr>\n",
       "    <tr>\n",
       "      <th>96093</th>\n",
       "      <td>2014S001775</td>\n",
       "      <td>Bike</td>\n",
       "      <td>Unknown</td>\n",
       "      <td>Unknown</td>\n",
       "      <td>-999</td>\n",
       "    </tr>\n",
       "    <tr>\n",
       "      <th>96099</th>\n",
       "      <td>2014S008681</td>\n",
       "      <td>Bike</td>\n",
       "      <td>HONDA</td>\n",
       "      <td>Black</td>\n",
       "      <td>-999</td>\n",
       "    </tr>\n",
       "    <tr>\n",
       "      <th>96104</th>\n",
       "      <td>2014S008826</td>\n",
       "      <td>Car</td>\n",
       "      <td>HYUNDAI</td>\n",
       "      <td>Green</td>\n",
       "      <td>-999</td>\n",
       "    </tr>\n",
       "    <tr>\n",
       "      <th>96109</th>\n",
       "      <td>2014S000418</td>\n",
       "      <td>Car</td>\n",
       "      <td>MAZDA</td>\n",
       "      <td>Grey</td>\n",
       "      <td>-999</td>\n",
       "    </tr>\n",
       "    <tr>\n",
       "      <th>96114</th>\n",
       "      <td>2014S001767</td>\n",
       "      <td>Car</td>\n",
       "      <td>Unknown</td>\n",
       "      <td>Unknown</td>\n",
       "      <td>-999</td>\n",
       "    </tr>\n",
       "  </tbody>\n",
       "</table>\n",
       "<p>6835 rows × 5 columns</p>\n",
       "</div>"
      ],
      "text/plain": [
       "         Accident_code Vehicle_type    Brand    Color  Years_license\n",
       "8      2018S006793              Car  Unknown  Unknown           -999\n",
       "14     2018S009491             Bike      SYM    White           -999\n",
       "15     2018S009491              Car      BMW     Grey           -999\n",
       "58     2018S003738             Bike    HONDA    White           -999\n",
       "60     2018S003738              Car  Unknown  Unknown           -999\n",
       "...                ...          ...      ...      ...            ...\n",
       "96093      2014S001775         Bike  Unknown  Unknown           -999\n",
       "96099      2014S008681         Bike    HONDA    Black           -999\n",
       "96104      2014S008826          Car  HYUNDAI    Green           -999\n",
       "96109      2014S000418          Car    MAZDA     Grey           -999\n",
       "96114      2014S001767          Car  Unknown  Unknown           -999\n",
       "\n",
       "[6835 rows x 5 columns]"
      ]
     },
     "execution_count": 47,
     "metadata": {},
     "output_type": "execute_result"
    }
   ],
   "source": [
    "acc.query('Years_license < 0 | Years_license > 1000')"
   ]
  },
  {
   "cell_type": "markdown",
   "metadata": {},
   "source": [
    "Some information seems to be alright so, I will set all the negative values to -999 and also the >1000."
   ]
  },
  {
   "cell_type": "code",
   "execution_count": 43,
   "metadata": {},
   "outputs": [],
   "source": [
    "acc_1 = acc.query('Years_license < 0 | Years_license > 1000') #Slice of original dataframe to perform the change."
   ]
  },
  {
   "cell_type": "code",
   "execution_count": 44,
   "metadata": {},
   "outputs": [
    {
     "name": "stderr",
     "output_type": "stream",
     "text": [
      "/usr/local/Cellar/ipython/7.5.0/libexec/vendor/lib/python3.7/site-packages/ipykernel_launcher.py:1: SettingWithCopyWarning: \n",
      "A value is trying to be set on a copy of a slice from a DataFrame.\n",
      "Try using .loc[row_indexer,col_indexer] = value instead\n",
      "\n",
      "See the caveats in the documentation: http://pandas.pydata.org/pandas-docs/stable/user_guide/indexing.html#returning-a-view-versus-a-copy\n",
      "  \"\"\"Entry point for launching an IPython kernel.\n"
     ]
    }
   ],
   "source": [
    "acc_1['Years_license']=-999 #Setting Years_license to -999"
   ]
  },
  {
   "cell_type": "code",
   "execution_count": 53,
   "metadata": {},
   "outputs": [],
   "source": [
    "acc.update(acc_1) #Updating values of acc_1 to acc."
   ]
  },
  {
   "cell_type": "code",
   "execution_count": 55,
   "metadata": {},
   "outputs": [
    {
     "data": {
      "text/plain": [
       "-999.0    6835\n",
       "Name: Years_license, dtype: int64"
      ]
     },
     "execution_count": 55,
     "metadata": {},
     "output_type": "execute_result"
    }
   ],
   "source": [
    "acc.query('Years_license < 0 | Years_license > 1000')['Years_license'].value_counts() \n",
    "#Checking if values have changed"
   ]
  },
  {
   "cell_type": "markdown",
   "metadata": {},
   "source": [
    "Let's check if some columns have at the same time Unknown, in that case, we would eliminate them"
   ]
  },
  {
   "cell_type": "code",
   "execution_count": 56,
   "metadata": {},
   "outputs": [
    {
     "data": {
      "text/plain": [
       "0.7840587977765101"
      ]
     },
     "execution_count": 56,
     "metadata": {},
     "output_type": "execute_result"
    }
   ],
   "source": [
    "len(acc.query('Brand == \"Unknown\" & Color == \"Unknown\" & Years_license < 0'))*100/len(acc)"
   ]
  },
  {
   "cell_type": "markdown",
   "metadata": {},
   "source": [
    "0.78% of the acc dataframe has Unknown values, I will now delete them."
   ]
  },
  {
   "cell_type": "code",
   "execution_count": 63,
   "metadata": {},
   "outputs": [],
   "source": [
    "acc = acc.query('Brand != \"Unknown\" & Color != \"Unknown\" & Years_license >= 0')"
   ]
  },
  {
   "cell_type": "markdown",
   "metadata": {},
   "source": [
    "Now acc has the information clean."
   ]
  },
  {
   "cell_type": "code",
   "execution_count": 66,
   "metadata": {},
   "outputs": [],
   "source": [
    "acc.to_csv('../data/Clean_data/clean_vehicles_bcn.csv')"
   ]
  }
 ],
 "metadata": {
  "kernelspec": {
   "display_name": "Python 3",
   "language": "python",
   "name": "python3"
  },
  "language_info": {
   "codemirror_mode": {
    "name": "ipython",
    "version": 3
   },
   "file_extension": ".py",
   "mimetype": "text/x-python",
   "name": "python",
   "nbconvert_exporter": "python",
   "pygments_lexer": "ipython3",
   "version": "3.7.3"
  }
 },
 "nbformat": 4,
 "nbformat_minor": 2
}
