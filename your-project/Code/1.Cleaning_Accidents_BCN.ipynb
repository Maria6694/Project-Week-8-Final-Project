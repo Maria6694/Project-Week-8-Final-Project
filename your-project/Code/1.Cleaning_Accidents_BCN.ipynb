{
 "cells": [
  {
   "cell_type": "markdown",
   "metadata": {},
   "source": [
    "## Data Cleaning Accidents BCN:\n",
    "#### In this Jupyter Notebook you will find the process of data cleaning of a dataset from Ajuntament de Barcelona Open Data on vehicles involved in accident."
   ]
  },
  {
   "cell_type": "markdown",
   "metadata": {},
   "source": [
    "First we import the libraries we are going to use."
   ]
  },
  {
   "cell_type": "code",
   "execution_count": 1,
   "metadata": {},
   "outputs": [],
   "source": [
    "import numpy as np\n",
    "import pandas as pd\n",
    "import re"
   ]
  },
  {
   "cell_type": "markdown",
   "metadata": {},
   "source": [
    "Import data and assign to variable 'acc' which stands for accident."
   ]
  },
  {
   "cell_type": "code",
   "execution_count": 2,
   "metadata": {},
   "outputs": [],
   "source": [
    "acc = pd.read_csv('../Data/Raw_data/vehicles_accident.csv', encoding='utf-8', sep = ';',dtype = 'object')"
   ]
  },
  {
   "cell_type": "markdown",
   "metadata": {},
   "source": [
    "I examine the data that I have imported."
   ]
  },
  {
   "cell_type": "code",
   "execution_count": 3,
   "metadata": {},
   "outputs": [
    {
     "data": {
      "text/html": [
       "<div>\n",
       "<style scoped>\n",
       "    .dataframe tbody tr th:only-of-type {\n",
       "        vertical-align: middle;\n",
       "    }\n",
       "\n",
       "    .dataframe tbody tr th {\n",
       "        vertical-align: top;\n",
       "    }\n",
       "\n",
       "    .dataframe thead th {\n",
       "        text-align: right;\n",
       "    }\n",
       "</style>\n",
       "<table border=\"1\" class=\"dataframe\">\n",
       "  <thead>\n",
       "    <tr style=\"text-align: right;\">\n",
       "      <th></th>\n",
       "      <th>Codi_expedient</th>\n",
       "      <th>Codi_districte</th>\n",
       "      <th>Nom_districte</th>\n",
       "      <th>Codi_barri</th>\n",
       "      <th>Nom_barri</th>\n",
       "      <th>Codi_carrer</th>\n",
       "      <th>Nom_carrer</th>\n",
       "      <th>Num_postal</th>\n",
       "      <th>Descripcio_dia_setmana</th>\n",
       "      <th>Dia_setmana</th>\n",
       "      <th>...</th>\n",
       "      <th>Descripcio_tipus_vehicle</th>\n",
       "      <th>Descripcio_model</th>\n",
       "      <th>Descripcio_marca</th>\n",
       "      <th>Descripcio_color</th>\n",
       "      <th>Descripcio_carnet</th>\n",
       "      <th>Antiguitat_carnet</th>\n",
       "      <th>Coordenada_UTM_X</th>\n",
       "      <th>Coordenada_UTM_Y</th>\n",
       "      <th>Longitud</th>\n",
       "      <th>Latitud</th>\n",
       "    </tr>\n",
       "  </thead>\n",
       "  <tbody>\n",
       "    <tr>\n",
       "      <th>81852</th>\n",
       "      <td>2014S007872</td>\n",
       "      <td>7</td>\n",
       "      <td>Horta-Guinardó</td>\n",
       "      <td>41</td>\n",
       "      <td>la Vall d'Hebron</td>\n",
       "      <td>352507</td>\n",
       "      <td>Vall d'Hebron</td>\n",
       "      <td>0202 0202</td>\n",
       "      <td>Dimecres</td>\n",
       "      <td>Dc</td>\n",
       "      <td>...</td>\n",
       "      <td>Turismo</td>\n",
       "      <td>CORDOBA</td>\n",
       "      <td>SEAT</td>\n",
       "      <td>Verd</td>\n",
       "      <td>B</td>\n",
       "      <td>22</td>\n",
       "      <td>4587166,38</td>\n",
       "      <td>428713,22</td>\n",
       "      <td>NaN</td>\n",
       "      <td>NaN</td>\n",
       "    </tr>\n",
       "    <tr>\n",
       "      <th>64570</th>\n",
       "      <td>2015S009704</td>\n",
       "      <td>4</td>\n",
       "      <td>Les Corts</td>\n",
       "      <td>20</td>\n",
       "      <td>la Maternitat i Sant Ramon</td>\n",
       "      <td>100708</td>\n",
       "      <td>Arístides Maillol</td>\n",
       "      <td>0006 0018</td>\n",
       "      <td>Dilluns</td>\n",
       "      <td>Dl</td>\n",
       "      <td>...</td>\n",
       "      <td>Bicicleta</td>\n",
       "      <td>Desconegut</td>\n",
       "      <td>BH</td>\n",
       "      <td>Vermell</td>\n",
       "      <td>Desconegut</td>\n",
       "      <td>Desconegut</td>\n",
       "      <td>4581415,28</td>\n",
       "      <td>426532,37</td>\n",
       "      <td>NaN</td>\n",
       "      <td>NaN</td>\n",
       "    </tr>\n",
       "    <tr>\n",
       "      <th>18665</th>\n",
       "      <td>2018S007810</td>\n",
       "      <td>2</td>\n",
       "      <td>Eixample</td>\n",
       "      <td>5</td>\n",
       "      <td>el Fort Pienc</td>\n",
       "      <td>169409</td>\n",
       "      <td>Corts Catalanes                               ...</td>\n",
       "      <td>790</td>\n",
       "      <td>Diumenge</td>\n",
       "      <td>Dg</td>\n",
       "      <td>...</td>\n",
       "      <td>Furgoneta</td>\n",
       "      <td>JUMPER</td>\n",
       "      <td>CITROEN</td>\n",
       "      <td>Blanc</td>\n",
       "      <td>B</td>\n",
       "      <td>41</td>\n",
       "      <td>431743.09</td>\n",
       "      <td>4583649.26</td>\n",
       "      <td>2.182.325</td>\n",
       "      <td>41.399.642</td>\n",
       "    </tr>\n",
       "    <tr>\n",
       "      <th>37989</th>\n",
       "      <td>2017S010311</td>\n",
       "      <td>2</td>\n",
       "      <td>Eixample</td>\n",
       "      <td>10</td>\n",
       "      <td>Sant Antoni</td>\n",
       "      <td>361406</td>\n",
       "      <td>Viladomat</td>\n",
       "      <td>0081 0083</td>\n",
       "      <td>Dimecres</td>\n",
       "      <td>Dc</td>\n",
       "      <td>...</td>\n",
       "      <td>Taxi</td>\n",
       "      <td>OCTAVIA</td>\n",
       "      <td>SKODA</td>\n",
       "      <td>Negre/Groc</td>\n",
       "      <td>B</td>\n",
       "      <td>28</td>\n",
       "      <td>429717,35</td>\n",
       "      <td>4581348,59</td>\n",
       "      <td>2.158.357</td>\n",
       "      <td>41.378.741</td>\n",
       "    </tr>\n",
       "    <tr>\n",
       "      <th>60858</th>\n",
       "      <td>2015S009437</td>\n",
       "      <td>10</td>\n",
       "      <td>Sant Martí</td>\n",
       "      <td>68</td>\n",
       "      <td>el Poblenou</td>\n",
       "      <td>30500</td>\n",
       "      <td>Badajoz</td>\n",
       "      <td>0006 0006</td>\n",
       "      <td>Divendres</td>\n",
       "      <td>Dv</td>\n",
       "      <td>...</td>\n",
       "      <td>Motocicleta</td>\n",
       "      <td>YP 125</td>\n",
       "      <td>YAMAHA</td>\n",
       "      <td>Desconegut</td>\n",
       "      <td>B</td>\n",
       "      <td>19</td>\n",
       "      <td>4583104,53</td>\n",
       "      <td>433261,88</td>\n",
       "      <td>NaN</td>\n",
       "      <td>NaN</td>\n",
       "    </tr>\n",
       "  </tbody>\n",
       "</table>\n",
       "<p>5 rows × 28 columns</p>\n",
       "</div>"
      ],
      "text/plain": [
       "        Codi_expedient Codi_districte   Nom_districte Codi_barri  \\\n",
       "81852      2014S007872              7  Horta-Guinardó         41   \n",
       "64570      2015S009704              4       Les Corts         20   \n",
       "18665  2018S007810                  2        Eixample          5   \n",
       "37989  2017S010311                  2        Eixample         10   \n",
       "60858      2015S009437             10      Sant Martí         68   \n",
       "\n",
       "                        Nom_barri Codi_carrer  \\\n",
       "81852            la Vall d'Hebron      352507   \n",
       "64570  la Maternitat i Sant Ramon      100708   \n",
       "18665               el Fort Pienc      169409   \n",
       "37989                 Sant Antoni      361406   \n",
       "60858                 el Poblenou       30500   \n",
       "\n",
       "                                              Nom_carrer Num_postal   \\\n",
       "81852                                      Vall d'Hebron   0202 0202   \n",
       "64570                                  Arístides Maillol   0006 0018   \n",
       "18665  Corts Catalanes                               ...         790   \n",
       "37989                                          Viladomat   0081 0083   \n",
       "60858                                            Badajoz   0006 0006   \n",
       "\n",
       "      Descripcio_dia_setmana Dia_setmana  ... Descripcio_tipus_vehicle  \\\n",
       "81852               Dimecres          Dc  ...                  Turismo   \n",
       "64570                Dilluns          Dl  ...                Bicicleta   \n",
       "18665               Diumenge          Dg  ...                Furgoneta   \n",
       "37989               Dimecres          Dc  ...                     Taxi   \n",
       "60858              Divendres          Dv  ...              Motocicleta   \n",
       "\n",
       "      Descripcio_model Descripcio_marca Descripcio_color Descripcio_carnet  \\\n",
       "81852          CORDOBA             SEAT             Verd                 B   \n",
       "64570       Desconegut               BH          Vermell        Desconegut   \n",
       "18665           JUMPER          CITROEN            Blanc                 B   \n",
       "37989          OCTAVIA            SKODA       Negre/Groc                 B   \n",
       "60858           YP 125           YAMAHA       Desconegut                 B   \n",
       "\n",
       "      Antiguitat_carnet Coordenada_UTM_X Coordenada_UTM_Y   Longitud  \\\n",
       "81852                22       4587166,38        428713,22        NaN   \n",
       "64570        Desconegut       4581415,28        426532,37        NaN   \n",
       "18665                41       431743.09        4583649.26  2.182.325   \n",
       "37989                28        429717,35       4581348,59  2.158.357   \n",
       "60858                19       4583104,53        433261,88        NaN   \n",
       "\n",
       "          Latitud  \n",
       "81852         NaN  \n",
       "64570         NaN  \n",
       "18665  41.399.642  \n",
       "37989  41.378.741  \n",
       "60858         NaN  \n",
       "\n",
       "[5 rows x 28 columns]"
      ]
     },
     "execution_count": 3,
     "metadata": {},
     "output_type": "execute_result"
    }
   ],
   "source": [
    "acc.sample(5)"
   ]
  },
  {
   "cell_type": "markdown",
   "metadata": {},
   "source": [
    "As I want to study which common characteristics the vehicles involved in an accident have, there are some columns that I won't use, so I will drop them."
   ]
  },
  {
   "cell_type": "code",
   "execution_count": 4,
   "metadata": {},
   "outputs": [
    {
     "data": {
      "text/plain": [
       "Index(['Codi_expedient', 'Codi_districte', 'Nom_districte', 'Codi_barri',\n",
       "       'Nom_barri', 'Codi_carrer', 'Nom_carrer', 'Num_postal ',\n",
       "       'Descripcio_dia_setmana', 'Dia_setmana', 'Descripcio_tipus_dia', 'Any',\n",
       "       'Mes_any', 'Nom_mes', 'Dia_mes', 'Hora_dia', 'Descripcio_torn',\n",
       "       'Descripcio_causa_vianant', 'Descripcio_tipus_vehicle',\n",
       "       'Descripcio_model', 'Descripcio_marca', 'Descripcio_color',\n",
       "       'Descripcio_carnet', 'Antiguitat_carnet', 'Coordenada_UTM_X',\n",
       "       'Coordenada_UTM_Y', 'Longitud', 'Latitud'],\n",
       "      dtype='object')"
      ]
     },
     "execution_count": 4,
     "metadata": {},
     "output_type": "execute_result"
    }
   ],
   "source": [
    "acc.columns #Checking the names of the columns."
   ]
  },
  {
   "cell_type": "code",
   "execution_count": 5,
   "metadata": {},
   "outputs": [],
   "source": [
    "#Dropping columns that I will not be using.\n",
    "acc.drop(columns = ['Codi_districte', 'Nom_districte', 'Codi_barri', \\\n",
    "                    'Nom_barri', 'Codi_carrer', 'Nom_carrer', 'Num_postal ', \\\n",
    "                    'Descripcio_dia_setmana', 'Dia_setmana', 'Descripcio_tipus_dia', 'Any', \\\n",
    "                    'Mes_any', 'Nom_mes', 'Dia_mes', 'Hora_dia', 'Descripcio_torn',\\\n",
    "                    'Descripcio_causa_vianant','Descripcio_carnet','Coordenada_UTM_X',\\\n",
    "                    'Coordenada_UTM_Y', 'Longitud', 'Latitud','Descripcio_model' ], inplace = True)"
   ]
  },
  {
   "cell_type": "markdown",
   "metadata": {},
   "source": [
    "I will now change the name of the columns so that they are more self-explanatory."
   ]
  },
  {
   "cell_type": "code",
   "execution_count": 6,
   "metadata": {},
   "outputs": [],
   "source": [
    "acc.rename(columns = {'Codi_expedient': 'Accident_code', 'Descripcio_tipus_vehicle':'Vehicle_type', \n",
    "                      'Descripcio_marca':'Brand','Descripcio_color':'Color', 'Antiguitat_carnet':'Years_license'},\n",
    "          inplace = True)"
   ]
  },
  {
   "cell_type": "markdown",
   "metadata": {},
   "source": [
    "Checking datatypes. I will change the type of Years_license at the end, since it has some values as Desconegut (Unknown) that don't let me change directly the data type."
   ]
  },
  {
   "cell_type": "code",
   "execution_count": 7,
   "metadata": {},
   "outputs": [
    {
     "name": "stdout",
     "output_type": "stream",
     "text": [
      "<class 'pandas.core.frame.DataFrame'>\n",
      "RangeIndex: 96125 entries, 0 to 96124\n",
      "Data columns (total 5 columns):\n",
      "Accident_code    96124 non-null object\n",
      "Vehicle_type     96124 non-null object\n",
      "Brand            96124 non-null object\n",
      "Color            96124 non-null object\n",
      "Years_license    96124 non-null object\n",
      "dtypes: object(5)\n",
      "memory usage: 3.7+ MB\n"
     ]
    }
   ],
   "source": [
    "acc.info()"
   ]
  },
  {
   "cell_type": "markdown",
   "metadata": {},
   "source": [
    "##### Vehicle_type column:\n",
    "\n",
    "Moreover, I will change the values of the columns Vehicle_type and Color to make it more understandable. First, I will explore which are the values of Vehicle_Type."
   ]
  },
  {
   "cell_type": "code",
   "execution_count": 8,
   "metadata": {},
   "outputs": [
    {
     "data": {
      "text/plain": [
       "Motocicleta                            30293\n",
       "Turismo                                25908\n",
       "Turisme                                13616\n",
       "Furgoneta                               6128\n",
       "Ciclomotor                              5332\n",
       "Taxi                                    5092\n",
       "Bicicleta                               3849\n",
       "Autobús                                 1995\n",
       "Camión <= 3,5 Tm                         952\n",
       "AutobÃºs                                 476\n",
       "Camión > 3,5 Tm                          423\n",
       "CamiÃ_ rÃ_gid <= 3,5 tones               280\n",
       "Camió rígid <= 3,5 tones                 208\n",
       "CamiÃ_ rÃ_gid > 3,5 tones                169\n",
       "Autocar                                  161\n",
       "Tractocamión                             150\n",
       "Todo terreno                             148\n",
       "Veh. mobilitat personal amb motor        128\n",
       "Camió rígid > 3,5 tones                   98\n",
       "Otros vehíc. a motor                      86\n",
       "Tot terreny                               80\n",
       "Altres vehicles amb motor                 62\n",
       "AutobÃºs articulat                        58\n",
       "Tractor camiÃ_                            54\n",
       "Tranvía o tren                            46\n",
       "Autobús articulado                        46\n",
       "Autobús articulat                         41\n",
       "Tren o tramvia                            33\n",
       "Desconegut                                31\n",
       "Tractor camió                             30\n",
       "Altres vehicles sense motor               28\n",
       "Cuadriciclo <75cc                         22\n",
       "Maquinària d'obres i serveis              18\n",
       "MaquinÃ ria d'obres i serveis             14\n",
       "Maquinaria de obras                       13\n",
       "Autocaravana                              12\n",
       "Veh. mobilitat personal sense motor       12\n",
       "Cuadriciclo >=75cc                         7\n",
       "Microbus <=17 plazas                       7\n",
       "MicrobÃºs <= 17                            6\n",
       "Quadricicle > 75 cc                        5\n",
       "Quadricicle < 75 cc                        4\n",
       "Carro                                      2\n",
       "Microbus <= 17                             1\n",
       "Name: Vehicle_type, dtype: int64"
      ]
     },
     "execution_count": 8,
     "metadata": {},
     "output_type": "execute_result"
    }
   ],
   "source": [
    "acc['Vehicle_type'].value_counts() #Checking the values of Vehicle_type."
   ]
  },
  {
   "cell_type": "markdown",
   "metadata": {},
   "source": [
    "Since I am studying the common elements between accidents, I will get rid of all the values except for cars and bikes. First, I will unify the names to Cars and bikes and then I will get rid of the other types of vehicles."
   ]
  },
  {
   "cell_type": "code",
   "execution_count": 9,
   "metadata": {},
   "outputs": [],
   "source": [
    "acc['Vehicle_type'].replace({'Turisme':'Car', 'Turismo':'Car', 'Todo terreno':'Car', \\\n",
    "                             'Tot terreny':'Car','Motocicleta':'Bike','Ciclomotor':'Bike'}, inplace = True)"
   ]
  },
  {
   "cell_type": "markdown",
   "metadata": {},
   "source": [
    "Now I am getting rid of the other types of vehicles different than Car and Bike."
   ]
  },
  {
   "cell_type": "code",
   "execution_count": 10,
   "metadata": {},
   "outputs": [],
   "source": [
    "#Updating variable acc since it is the only information that we will be using.\n",
    "acc = acc.query('Vehicle_type == \"Car\" | Vehicle_type == \"Bike\"')"
   ]
  },
  {
   "cell_type": "markdown",
   "metadata": {},
   "source": [
    "##### Brand Column\n",
    "\n",
    "Let's move to the column Brand. We can see that there are many brands with points and spaces, so I will get rid of them."
   ]
  },
  {
   "cell_type": "code",
   "execution_count": 11,
   "metadata": {},
   "outputs": [
    {
     "data": {
      "text/plain": [
       "['SEAT',\n",
       " 'PEUGEOT',\n",
       " 'RENAULT',\n",
       " 'Desconegut',\n",
       " 'FORD',\n",
       " 'HONDA',\n",
       " 'SYM',\n",
       " 'BMW',\n",
       " 'A.U.D.I.',\n",
       " 'OPEL',\n",
       " 'PIAGGIO',\n",
       " 'KIA',\n",
       " 'YAMAHA',\n",
       " 'VOLKSWAGEN',\n",
       " 'SKODA',\n",
       " 'APRILIA',\n",
       " 'HARLEY DAVIDSON',\n",
       " 'MERCEDES',\n",
       " 'EMCO',\n",
       " 'KAWASAKI',\n",
       " 'LANCIA',\n",
       " 'AUDI',\n",
       " 'KYMCO',\n",
       " 'FIAT',\n",
       " 'TOYOTA',\n",
       " 'MAZDA',\n",
       " 'KEEWAY',\n",
       " 'CITROEN',\n",
       " 'DAEWOO',\n",
       " 'KTM',\n",
       " 'A U D I',\n",
       " 'DAELIM',\n",
       " 'S.Y.M',\n",
       " 'DACIA',\n",
       " 'DODGE',\n",
       " 'NISSAN',\n",
       " 'HYUNDAI',\n",
       " 'DERBI',\n",
       " 'SUZUKI',\n",
       " 'LAND ROVER',\n",
       " 'GILERA',\n",
       " 'MONTESA',\n",
       " 'MINI',\n",
       " 'HYOSUNG',\n",
       " 'ALFA ROMEO',\n",
       " 'GOVECS',\n",
       " 'SCUTUM',\n",
       " 'TRIUMPH',\n",
       " 'SMART',\n",
       " 'YIYING',\n",
       " 'VOLVO',\n",
       " 'JEEP',\n",
       " 'TATA',\n",
       " 'LEXUS',\n",
       " 'HUSQVARNA',\n",
       " 'PORSCHE',\n",
       " 'MITSUBISHI',\n",
       " 'CHEVROLET',\n",
       " 'BENELLI',\n",
       " 'MASH',\n",
       " 'SUMCO',\n",
       " 'BUELL',\n",
       " 'B.M.W.',\n",
       " 'CHRYSLER',\n",
       " 'VESPA',\n",
       " 'ES DESCONEIX',\n",
       " 'Brixton',\n",
       " 'JAGUAR',\n",
       " 'B M W',\n",
       " 'RIEJU',\n",
       " 'DUCATI',\n",
       " 'SSANGYONG',\n",
       " 'BETA',\n",
       " 'SAAB',\n",
       " 'SUBARU',\n",
       " 'HANWAY',\n",
       " 'INFINITI',\n",
       " 'COOLTRA',\n",
       " 'IRISBUS',\n",
       " 'GAS-GAS',\n",
       " 'MERCEDES-BENZ',\n",
       " 'TISONG',\n",
       " 'MBK',\n",
       " 'MV AUGUSTA',\n",
       " 'CPI',\n",
       " 'GENERIC',\n",
       " 'GUZZI',\n",
       " 'WOTTAN',\n",
       " 'SCOMADI',\n",
       " 'TORROT',\n",
       " 'MALAGUTI',\n",
       " 'TGB',\n",
       " 'JAGUAR LAND ROV',\n",
       " 'TRUEBA',\n",
       " 'LEONART',\n",
       " 'CSR',\n",
       " 'VESPINO',\n",
       " 'MECEDES',\n",
       " 'ROVER',\n",
       " 'IVECO FIAT',\n",
       " 'FERRARI',\n",
       " 'MASERATI',\n",
       " 'MERCEDES B',\n",
       " 'K.T.M.',\n",
       " 'MAURICIO',\n",
       " 'OSSA',\n",
       " 'AIYUMO',\n",
       " 'BERGADANA',\n",
       " 'LML',\n",
       " 'KSR MOTO',\n",
       " 'BULTACO',\n",
       " 'KSR',\n",
       " 'LAVERDA',\n",
       " 'GOING GREEN',\n",
       " 'ROYAL ENFIELD',\n",
       " 'MH MOTORCYCLES',\n",
       " 'IVECO BUS',\n",
       " 'MAC CORMICK',\n",
       " 'ITALJET',\n",
       " 'LINCOLN',\n",
       " 'MOTOR HISPANIA',\n",
       " 'MONDIAL',\n",
       " 'SANTANA',\n",
       " 'MAN',\n",
       " 'MOTO GUZZI',\n",
       " 'GALLOPER',\n",
       " 'VOXAN',\n",
       " 'DAIHATSU',\n",
       " 'TECNUVE',\n",
       " 'CAGIVA',\n",
       " 'BTWIN',\n",
       " 'MACBOR',\n",
       " 'HAOTIAN',\n",
       " 'LAMBRETTA',\n",
       " 'CADILLAC',\n",
       " 'FAZTEK',\n",
       " 'DAF-HERMANNS',\n",
       " 'LINHAI',\n",
       " 'QINGQI',\n",
       " 'SANYANG',\n",
       " 'GOWINN',\n",
       " 'HUMMER',\n",
       " 'SANGLAS',\n",
       " 'XINGYUE',\n",
       " 'ASTON MARTIN',\n",
       " 'TRIGGER',\n",
       " 'MICROCAR',\n",
       " 'FYM',\n",
       " 'HM',\n",
       " 'ZNEN',\n",
       " 'ZONGSHEN',\n",
       " 'VECTRIX',\n",
       " 'ALDY',\n",
       " 'VICTORY MOTOR D',\n",
       " 'ROLLS-ROYCE',\n",
       " 'MG',\n",
       " 'ERIDER',\n",
       " 'MTR',\n",
       " 'MOTORMANIA',\n",
       " 'JINLUN',\n",
       " 'BTM',\n",
       " 'SAMADA',\n",
       " 'MONKEY BIKES',\n",
       " 'SETRA',\n",
       " 'RIDE',\n",
       " 'BYD',\n",
       " 'MAHINDRA',\n",
       " 'DAIMLER',\n",
       " 'PIONEER',\n",
       " 'ISUZU',\n",
       " 'YIBEN',\n",
       " 'JONWAY ITALIA',\n",
       " 'V MOTO',\n",
       " 'HAMM',\n",
       " 'BSA',\n",
       " 'GUOBEN',\n",
       " 'FMC',\n",
       " 'AUSTIN',\n",
       " 'CITADIS',\n",
       " 'BRAMMO',\n",
       " 'KENROD',\n",
       " 'CLIPIC',\n",
       " 'Moto GAC',\n",
       " 'LADA',\n",
       " 'PGO',\n",
       " 'CHUANL',\n",
       " 'CF Moto',\n",
       " 'WANGYE',\n",
       " 'WUYANG',\n",
       " 'BENTLEY',\n",
       " 'BAOTIAN',\n",
       " 'BIMOTA']"
      ]
     },
     "execution_count": 11,
     "metadata": {},
     "output_type": "execute_result"
    }
   ],
   "source": [
    "list(acc['Brand'].unique()) \n",
    "#Seeing the unique values for Brands, if I used value_counts, it didn't print all the values."
   ]
  },
  {
   "cell_type": "code",
   "execution_count": 12,
   "metadata": {},
   "outputs": [],
   "source": [
    "acc['Brand'] = acc['Brand'].apply(lambda x: x.replace('.','')) #Getting rid of points."
   ]
  },
  {
   "cell_type": "code",
   "execution_count": 13,
   "metadata": {},
   "outputs": [],
   "source": [
    "acc['Brand'] = acc['Brand'].apply(lambda x: x.replace(' ','')) #Getting rid of additional spaces."
   ]
  },
  {
   "cell_type": "markdown",
   "metadata": {},
   "source": [
    "There are some brands that have more information in the brand name, hence, I will only keep the brand name."
   ]
  },
  {
   "cell_type": "code",
   "execution_count": 14,
   "metadata": {},
   "outputs": [],
   "source": [
    "acc['Brand'] = acc['Brand'].apply(lambda x: re.sub('MERCED.*','MERCEDES',x)) #Doing the above explained to MERCEDES."
   ]
  },
  {
   "cell_type": "code",
   "execution_count": 15,
   "metadata": {},
   "outputs": [],
   "source": [
    "acc['Brand'] = acc['Brand'].apply(lambda x: re.sub('JAGUAR.*','JAGUAR',x)) #Doing the above explained to JAGUAR."
   ]
  },
  {
   "cell_type": "code",
   "execution_count": 16,
   "metadata": {},
   "outputs": [],
   "source": [
    "acc['Brand'].replace({'ESDESCONEIX':'Unknown','Desconegut':'Unknown'}, inplace = True) #Uniforming unknown values."
   ]
  },
  {
   "cell_type": "markdown",
   "metadata": {},
   "source": [
    "##### Column Color:"
   ]
  },
  {
   "cell_type": "code",
   "execution_count": 17,
   "metadata": {},
   "outputs": [
    {
     "data": {
      "text/plain": [
       "array(['Blanc', 'Blau', 'Negre', 'Desconegut', 'Vermell', 'Gris', 'Verd',\n",
       "       'MarrÃ_', 'Platejat', 'Taronja', 'granate', 'Altres', 'Violeta',\n",
       "       'Groc', 'Negre/Groc', 'Beige', 'Daurat', 'Rosa', 'Marró'],\n",
       "      dtype=object)"
      ]
     },
     "execution_count": 17,
     "metadata": {},
     "output_type": "execute_result"
    }
   ],
   "source": [
    "acc['Color'].unique()"
   ]
  },
  {
   "cell_type": "markdown",
   "metadata": {},
   "source": [
    "There are some values that have special characters and I have decided to translate it into English."
   ]
  },
  {
   "cell_type": "code",
   "execution_count": 18,
   "metadata": {},
   "outputs": [],
   "source": [
    "acc['Color'].replace({'Blanc':'White', 'Blau':'Blue', 'Negre':'Black', 'Desconegut':'Unknown',\n",
    "                      'Vermell':'Red', 'Gris':'Grey', 'Verd':'Green','MarrÃ_':'Brown',\n",
    "                      'Platejat':'Silver', 'Taronja':'Orange', 'granate':'Red', 'Altres':'Unknown',\n",
    "                      'Violeta':'Purple','Groc':'Yellow', 'Negre/Groc':'Black-Yellow',\n",
    "                      'Beige':'White', 'Daurat':'Golden', 'Rosa':'Purple', 'Marró':'Brown'}, inplace = True)"
   ]
  },
  {
   "cell_type": "markdown",
   "metadata": {},
   "source": [
    "##### Column Years_license:"
   ]
  },
  {
   "cell_type": "code",
   "execution_count": 19,
   "metadata": {},
   "outputs": [
    {
     "data": {
      "text/plain": [
       "array(['5', '1', '2', 'Desconegut', '19', '12', '10', '23', '18', '22',\n",
       "       '4', '11', '13', '17', '21', '29', '28', '14', '8', '15', '32',\n",
       "       '34', '7', '46', '38', '6', '3', '9', '20', '50', '0', '25', '16',\n",
       "       '27', '33', '39', '40', '24', '35', '41', '36', '52', '31', '30',\n",
       "       '26', '51', '37', '58', '48', '45', '42', '44', '43', '54', '47',\n",
       "       '60', '56', '53', '55', '49', '57', '61', '64', '63', '65', '68',\n",
       "       '59', '66', '71', '67', '62', '-46', '69', '-189', '73', '-5',\n",
       "       '-47', '-2', '1818', '-484', '-972', '-70', '-947', '-41', '-48',\n",
       "       '-45', '-28', '1018', '-969'], dtype=object)"
      ]
     },
     "execution_count": 19,
     "metadata": {},
     "output_type": "execute_result"
    }
   ],
   "source": [
    "acc['Years_license'].unique()"
   ]
  },
  {
   "cell_type": "markdown",
   "metadata": {},
   "source": [
    "Let's get rid of the 'Desconegut' values, I will first assign them to a -999 values so that I continue having easy track of them."
   ]
  },
  {
   "cell_type": "code",
   "execution_count": 20,
   "metadata": {},
   "outputs": [],
   "source": [
    "acc['Years_license'].replace({'Desconegut':'-999'}, inplace = True)"
   ]
  },
  {
   "cell_type": "markdown",
   "metadata": {},
   "source": [
    "Now, I will change the datatype into integer."
   ]
  },
  {
   "cell_type": "code",
   "execution_count": 35,
   "metadata": {},
   "outputs": [],
   "source": [
    "acc['Years_license'] = acc['Years_license'].astype('int')"
   ]
  },
  {
   "cell_type": "code",
   "execution_count": 32,
   "metadata": {},
   "outputs": [
    {
     "data": {
      "text/plain": [
       "0           5\n",
       "1           1\n",
       "6           2\n",
       "8        -999\n",
       "9          19\n",
       "         ... \n",
       "96119      31\n",
       "96120      13\n",
       "96122       1\n",
       "96123      36\n",
       "96124      39\n",
       "Name: Years_license, Length: 75377, dtype: object"
      ]
     },
     "execution_count": 32,
     "metadata": {},
     "output_type": "execute_result"
    }
   ],
   "source": [
    "acc['Years_license']"
   ]
  },
  {
   "cell_type": "markdown",
   "metadata": {},
   "source": [
    "There are some strange values (negative & >1000 years). Let's examine them:"
   ]
  },
  {
   "cell_type": "code",
   "execution_count": 22,
   "metadata": {},
   "outputs": [
    {
     "data": {
      "text/html": [
       "<div>\n",
       "<style scoped>\n",
       "    .dataframe tbody tr th:only-of-type {\n",
       "        vertical-align: middle;\n",
       "    }\n",
       "\n",
       "    .dataframe tbody tr th {\n",
       "        vertical-align: top;\n",
       "    }\n",
       "\n",
       "    .dataframe thead th {\n",
       "        text-align: right;\n",
       "    }\n",
       "</style>\n",
       "<table border=\"1\" class=\"dataframe\">\n",
       "  <thead>\n",
       "    <tr style=\"text-align: right;\">\n",
       "      <th></th>\n",
       "      <th>Accident_code</th>\n",
       "      <th>Vehicle_type</th>\n",
       "      <th>Brand</th>\n",
       "      <th>Color</th>\n",
       "      <th>Years_license</th>\n",
       "    </tr>\n",
       "  </thead>\n",
       "  <tbody>\n",
       "    <tr>\n",
       "      <th>8</th>\n",
       "      <td>2018S006793</td>\n",
       "      <td>Car</td>\n",
       "      <td>Unknown</td>\n",
       "      <td>Unknown</td>\n",
       "      <td>-999</td>\n",
       "    </tr>\n",
       "    <tr>\n",
       "      <th>14</th>\n",
       "      <td>2018S009491</td>\n",
       "      <td>Bike</td>\n",
       "      <td>SYM</td>\n",
       "      <td>White</td>\n",
       "      <td>-999</td>\n",
       "    </tr>\n",
       "    <tr>\n",
       "      <th>15</th>\n",
       "      <td>2018S009491</td>\n",
       "      <td>Car</td>\n",
       "      <td>BMW</td>\n",
       "      <td>Grey</td>\n",
       "      <td>-999</td>\n",
       "    </tr>\n",
       "    <tr>\n",
       "      <th>58</th>\n",
       "      <td>2018S003738</td>\n",
       "      <td>Bike</td>\n",
       "      <td>HONDA</td>\n",
       "      <td>White</td>\n",
       "      <td>-999</td>\n",
       "    </tr>\n",
       "    <tr>\n",
       "      <th>60</th>\n",
       "      <td>2018S003738</td>\n",
       "      <td>Car</td>\n",
       "      <td>Unknown</td>\n",
       "      <td>Unknown</td>\n",
       "      <td>-999</td>\n",
       "    </tr>\n",
       "    <tr>\n",
       "      <th>...</th>\n",
       "      <td>...</td>\n",
       "      <td>...</td>\n",
       "      <td>...</td>\n",
       "      <td>...</td>\n",
       "      <td>...</td>\n",
       "    </tr>\n",
       "    <tr>\n",
       "      <th>96093</th>\n",
       "      <td>2014S001775</td>\n",
       "      <td>Bike</td>\n",
       "      <td>Unknown</td>\n",
       "      <td>Unknown</td>\n",
       "      <td>-999</td>\n",
       "    </tr>\n",
       "    <tr>\n",
       "      <th>96099</th>\n",
       "      <td>2014S008681</td>\n",
       "      <td>Bike</td>\n",
       "      <td>HONDA</td>\n",
       "      <td>Black</td>\n",
       "      <td>-999</td>\n",
       "    </tr>\n",
       "    <tr>\n",
       "      <th>96104</th>\n",
       "      <td>2014S008826</td>\n",
       "      <td>Car</td>\n",
       "      <td>HYUNDAI</td>\n",
       "      <td>Green</td>\n",
       "      <td>-999</td>\n",
       "    </tr>\n",
       "    <tr>\n",
       "      <th>96109</th>\n",
       "      <td>2014S000418</td>\n",
       "      <td>Car</td>\n",
       "      <td>MAZDA</td>\n",
       "      <td>Grey</td>\n",
       "      <td>-999</td>\n",
       "    </tr>\n",
       "    <tr>\n",
       "      <th>96114</th>\n",
       "      <td>2014S001767</td>\n",
       "      <td>Car</td>\n",
       "      <td>Unknown</td>\n",
       "      <td>Unknown</td>\n",
       "      <td>-999</td>\n",
       "    </tr>\n",
       "  </tbody>\n",
       "</table>\n",
       "<p>6833 rows × 5 columns</p>\n",
       "</div>"
      ],
      "text/plain": [
       "         Accident_code Vehicle_type    Brand    Color Years_license\n",
       "8      2018S006793              Car  Unknown  Unknown          -999\n",
       "14     2018S009491             Bike      SYM    White          -999\n",
       "15     2018S009491              Car      BMW     Grey          -999\n",
       "58     2018S003738             Bike    HONDA    White          -999\n",
       "60     2018S003738              Car  Unknown  Unknown          -999\n",
       "...                ...          ...      ...      ...           ...\n",
       "96093      2014S001775         Bike  Unknown  Unknown          -999\n",
       "96099      2014S008681         Bike    HONDA    Black          -999\n",
       "96104      2014S008826          Car  HYUNDAI    Green          -999\n",
       "96109      2014S000418          Car    MAZDA     Grey          -999\n",
       "96114      2014S001767          Car  Unknown  Unknown          -999\n",
       "\n",
       "[6833 rows x 5 columns]"
      ]
     },
     "execution_count": 22,
     "metadata": {},
     "output_type": "execute_result"
    }
   ],
   "source": [
    "acc.query('Years_license < \"0\"')"
   ]
  },
  {
   "cell_type": "code",
   "execution_count": 23,
   "metadata": {},
   "outputs": [
    {
     "data": {
      "text/html": [
       "<div>\n",
       "<style scoped>\n",
       "    .dataframe tbody tr th:only-of-type {\n",
       "        vertical-align: middle;\n",
       "    }\n",
       "\n",
       "    .dataframe tbody tr th {\n",
       "        vertical-align: top;\n",
       "    }\n",
       "\n",
       "    .dataframe thead th {\n",
       "        text-align: right;\n",
       "    }\n",
       "</style>\n",
       "<table border=\"1\" class=\"dataframe\">\n",
       "  <thead>\n",
       "    <tr style=\"text-align: right;\">\n",
       "      <th></th>\n",
       "      <th>Accident_code</th>\n",
       "      <th>Vehicle_type</th>\n",
       "      <th>Brand</th>\n",
       "      <th>Color</th>\n",
       "      <th>Years_license</th>\n",
       "    </tr>\n",
       "  </thead>\n",
       "  <tbody>\n",
       "    <tr>\n",
       "      <th>45980</th>\n",
       "      <td>2016S008427</td>\n",
       "      <td>Bike</td>\n",
       "      <td>KYMCO</td>\n",
       "      <td>Unknown</td>\n",
       "      <td>1818</td>\n",
       "    </tr>\n",
       "  </tbody>\n",
       "</table>\n",
       "</div>"
      ],
      "text/plain": [
       "         Accident_code Vehicle_type  Brand    Color Years_license\n",
       "45980  2016S008427             Bike  KYMCO  Unknown          1818"
      ]
     },
     "execution_count": 23,
     "metadata": {},
     "output_type": "execute_result"
    }
   ],
   "source": [
    "acc.query('Years_license == \"1818\"')"
   ]
  },
  {
   "cell_type": "markdown",
   "metadata": {},
   "source": [
    "They are only 21 rows, so I will delete them because it seems a typo, but I don't have a way to assess the value."
   ]
  },
  {
   "cell_type": "code",
   "execution_count": 30,
   "metadata": {},
   "outputs": [
    {
     "data": {
      "text/plain": [
       "0.7840587977765101"
      ]
     },
     "execution_count": 30,
     "metadata": {},
     "output_type": "execute_result"
    }
   ],
   "source": [
    "len(acc.query('Brand == \"Unknown\" & Color == \"Unknown\" & Years_license < \"0\"'))*100/len(acc)"
   ]
  },
  {
   "cell_type": "code",
   "execution_count": null,
   "metadata": {},
   "outputs": [],
   "source": []
  },
  {
   "cell_type": "code",
   "execution_count": null,
   "metadata": {},
   "outputs": [],
   "source": []
  }
 ],
 "metadata": {
  "kernelspec": {
   "display_name": "Python 3",
   "language": "python",
   "name": "python3"
  },
  "language_info": {
   "codemirror_mode": {
    "name": "ipython",
    "version": 3
   },
   "file_extension": ".py",
   "mimetype": "text/x-python",
   "name": "python",
   "nbconvert_exporter": "python",
   "pygments_lexer": "ipython3",
   "version": "3.7.3"
  }
 },
 "nbformat": 4,
 "nbformat_minor": 2
}
