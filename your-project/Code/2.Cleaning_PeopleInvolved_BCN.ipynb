{
 "cells": [
  {
   "cell_type": "markdown",
   "metadata": {},
   "source": [
    "## Data Cleaning People involved in Accidents BCN:\n",
    "#### In this Jupyter Notebook you will find the process of data cleaning of a dataset from Ajuntament de Barcelona Open Data on people involved in accidents."
   ]
  },
  {
   "cell_type": "markdown",
   "metadata": {},
   "source": [
    "We import the libraries that we will be using."
   ]
  },
  {
   "cell_type": "code",
   "execution_count": 1,
   "metadata": {},
   "outputs": [],
   "source": [
    "import pandas as pd\n",
    "import numpy as np"
   ]
  },
  {
   "cell_type": "markdown",
   "metadata": {},
   "source": [
    "Import of dataset."
   ]
  },
  {
   "cell_type": "code",
   "execution_count": 2,
   "metadata": {},
   "outputs": [],
   "source": [
    "peop = pd.read_csv('../Data/Raw_data/people_accident.csv', sep = ';',  encoding='utf-8',dtype = 'object')"
   ]
  },
  {
   "cell_type": "markdown",
   "metadata": {},
   "source": [
    "I examine the data that I have imported."
   ]
  },
  {
   "cell_type": "code",
   "execution_count": 3,
   "metadata": {},
   "outputs": [
    {
     "data": {
      "text/html": [
       "<div>\n",
       "<style scoped>\n",
       "    .dataframe tbody tr th:only-of-type {\n",
       "        vertical-align: middle;\n",
       "    }\n",
       "\n",
       "    .dataframe tbody tr th {\n",
       "        vertical-align: top;\n",
       "    }\n",
       "\n",
       "    .dataframe thead th {\n",
       "        text-align: right;\n",
       "    }\n",
       "</style>\n",
       "<table border=\"1\" class=\"dataframe\">\n",
       "  <thead>\n",
       "    <tr style=\"text-align: right;\">\n",
       "      <th></th>\n",
       "      <th>Numero_expedient</th>\n",
       "      <th>Codi_districte</th>\n",
       "      <th>Nom_districte</th>\n",
       "      <th>Codi_barri</th>\n",
       "      <th>Nom_barri</th>\n",
       "      <th>Codi_carrer</th>\n",
       "      <th>Nom_carrer</th>\n",
       "      <th>Num_postal</th>\n",
       "      <th>Descripcio_dia_setmana</th>\n",
       "      <th>Dia_setmana</th>\n",
       "      <th>...</th>\n",
       "      <th>Desc_Tipus_vehicle_implicat</th>\n",
       "      <th>Descripcio_sexe</th>\n",
       "      <th>Edat</th>\n",
       "      <th>Descripcio_tipus_persona</th>\n",
       "      <th>Descripcio_situacio</th>\n",
       "      <th>Descripcio_victimitzacio</th>\n",
       "      <th>Coordenada_UTM_X</th>\n",
       "      <th>Coordenada_UTM_Y</th>\n",
       "      <th>Longitud</th>\n",
       "      <th>Latitud</th>\n",
       "    </tr>\n",
       "  </thead>\n",
       "  <tbody>\n",
       "    <tr>\n",
       "      <th>0</th>\n",
       "      <td>2018S000001</td>\n",
       "      <td>3</td>\n",
       "      <td>Sants-MontjuÃ¯c</td>\n",
       "      <td>11</td>\n",
       "      <td>el Poble-sec</td>\n",
       "      <td>273400</td>\n",
       "      <td>ParalÂ·lel                                    ...</td>\n",
       "      <td>117-119</td>\n",
       "      <td>Dilluns</td>\n",
       "      <td>Dl</td>\n",
       "      <td>...</td>\n",
       "      <td>Turisme</td>\n",
       "      <td>Home</td>\n",
       "      <td>41</td>\n",
       "      <td>Conductor</td>\n",
       "      <td>Presentat</td>\n",
       "      <td>Ferit lleu: Amb assistÃ¨ncia sanitÃ ria en llo...</td>\n",
       "      <td>429910.63</td>\n",
       "      <td>4580909.28</td>\n",
       "      <td>2.160.723</td>\n",
       "      <td>41.374.806</td>\n",
       "    </tr>\n",
       "    <tr>\n",
       "      <th>1</th>\n",
       "      <td>2018S000001</td>\n",
       "      <td>3</td>\n",
       "      <td>Sants-MontjuÃ¯c</td>\n",
       "      <td>11</td>\n",
       "      <td>el Poble-sec</td>\n",
       "      <td>273400</td>\n",
       "      <td>ParalÂ·lel                                    ...</td>\n",
       "      <td>NaN</td>\n",
       "      <td>Dilluns</td>\n",
       "      <td>Dl</td>\n",
       "      <td>...</td>\n",
       "      <td>Turisme</td>\n",
       "      <td>Home</td>\n",
       "      <td>54</td>\n",
       "      <td>Conductor</td>\n",
       "      <td>Presentat</td>\n",
       "      <td>Ferit lleu: Amb assistÃ¨ncia sanitÃ ria en llo...</td>\n",
       "      <td>429910.63</td>\n",
       "      <td>4580909.28</td>\n",
       "      <td>2.160.723</td>\n",
       "      <td>41.374.806</td>\n",
       "    </tr>\n",
       "    <tr>\n",
       "      <th>2</th>\n",
       "      <td>2018S000002</td>\n",
       "      <td>2</td>\n",
       "      <td>Eixample</td>\n",
       "      <td>9</td>\n",
       "      <td>la Nova Esquerra de l'Eixample</td>\n",
       "      <td>361406</td>\n",
       "      <td>Viladomat / RossellÃ_                         ...</td>\n",
       "      <td>NaN</td>\n",
       "      <td>Dilluns</td>\n",
       "      <td>Dl</td>\n",
       "      <td>...</td>\n",
       "      <td>Ciclomotor</td>\n",
       "      <td>Home</td>\n",
       "      <td>45</td>\n",
       "      <td>Conductor</td>\n",
       "      <td>Presentat</td>\n",
       "      <td>Ferit lleu: HospitalitzaciÃ_ fins a 24h</td>\n",
       "      <td>428882.97</td>\n",
       "      <td>4582216.76</td>\n",
       "      <td>2.148.281</td>\n",
       "      <td>41.386.492</td>\n",
       "    </tr>\n",
       "    <tr>\n",
       "      <th>3</th>\n",
       "      <td>2018S000003</td>\n",
       "      <td>10</td>\n",
       "      <td>Sant MartÃ_</td>\n",
       "      <td>64</td>\n",
       "      <td>el Camp de l'Arpa del Clot</td>\n",
       "      <td>161407</td>\n",
       "      <td>IndÃºstria                                    ...</td>\n",
       "      <td>252</td>\n",
       "      <td>Dilluns</td>\n",
       "      <td>Dl</td>\n",
       "      <td>...</td>\n",
       "      <td>Motocicleta</td>\n",
       "      <td>Home</td>\n",
       "      <td>70</td>\n",
       "      <td>Conductor</td>\n",
       "      <td>Presentat</td>\n",
       "      <td>Ferit lleu: HospitalitzaciÃ_ fins a 24h</td>\n",
       "      <td>431447.19</td>\n",
       "      <td>4585099.12</td>\n",
       "      <td>2.178.621</td>\n",
       "      <td>41.412.675</td>\n",
       "    </tr>\n",
       "    <tr>\n",
       "      <th>4</th>\n",
       "      <td>2018S000005</td>\n",
       "      <td>8</td>\n",
       "      <td>Nou Barris</td>\n",
       "      <td>56</td>\n",
       "      <td>Vallbona</td>\n",
       "      <td>330606</td>\n",
       "      <td>C-17 (Barcelona)                              ...</td>\n",
       "      <td>K14</td>\n",
       "      <td>Dilluns</td>\n",
       "      <td>Dl</td>\n",
       "      <td>...</td>\n",
       "      <td>Turisme</td>\n",
       "      <td>Dona</td>\n",
       "      <td>33</td>\n",
       "      <td>Conductor</td>\n",
       "      <td>Presentat</td>\n",
       "      <td>Ferit lleu: HospitalitzaciÃ_ fins a 24h</td>\n",
       "      <td>431568.59</td>\n",
       "      <td>4590758.85</td>\n",
       "      <td>2.179.432</td>\n",
       "      <td>41.463.661</td>\n",
       "    </tr>\n",
       "  </tbody>\n",
       "</table>\n",
       "<p>5 rows × 27 columns</p>\n",
       "</div>"
      ],
      "text/plain": [
       "  Numero_expedient Codi_districte    Nom_districte Codi_barri  \\\n",
       "0  2018S000001                  3  Sants-MontjuÃ¯c         11   \n",
       "1  2018S000001                  3  Sants-MontjuÃ¯c         11   \n",
       "2  2018S000002                  2         Eixample          9   \n",
       "3  2018S000003                 10      Sant MartÃ_         64   \n",
       "4  2018S000005                  8       Nou Barris         56   \n",
       "\n",
       "                        Nom_barri Codi_carrer  \\\n",
       "0                    el Poble-sec      273400   \n",
       "1                    el Poble-sec      273400   \n",
       "2  la Nova Esquerra de l'Eixample      361406   \n",
       "3      el Camp de l'Arpa del Clot      161407   \n",
       "4                        Vallbona      330606   \n",
       "\n",
       "                                          Nom_carrer Num_postal   \\\n",
       "0  ParalÂ·lel                                    ...  117-119      \n",
       "1  ParalÂ·lel                                    ...         NaN   \n",
       "2  Viladomat / RossellÃ_                         ...         NaN   \n",
       "3  IndÃºstria                                    ...         252   \n",
       "4  C-17 (Barcelona)                              ...  K14          \n",
       "\n",
       "  Descripcio_dia_setmana Dia_setmana  ... Desc_Tipus_vehicle_implicat  \\\n",
       "0                Dilluns          Dl  ...                     Turisme   \n",
       "1                Dilluns          Dl  ...                     Turisme   \n",
       "2                Dilluns          Dl  ...                  Ciclomotor   \n",
       "3                Dilluns          Dl  ...                 Motocicleta   \n",
       "4                Dilluns          Dl  ...                     Turisme   \n",
       "\n",
       "  Descripcio_sexe Edat Descripcio_tipus_persona Descripcio_situacio  \\\n",
       "0            Home   41                Conductor           Presentat   \n",
       "1            Home   54                Conductor           Presentat   \n",
       "2            Home   45                Conductor           Presentat   \n",
       "3            Home   70                Conductor           Presentat   \n",
       "4            Dona   33                Conductor           Presentat   \n",
       "\n",
       "                            Descripcio_victimitzacio Coordenada_UTM_X  \\\n",
       "0  Ferit lleu: Amb assistÃ¨ncia sanitÃ ria en llo...       429910.63    \n",
       "1  Ferit lleu: Amb assistÃ¨ncia sanitÃ ria en llo...       429910.63    \n",
       "2            Ferit lleu: HospitalitzaciÃ_ fins a 24h       428882.97    \n",
       "3            Ferit lleu: HospitalitzaciÃ_ fins a 24h       431447.19    \n",
       "4            Ferit lleu: HospitalitzaciÃ_ fins a 24h       431568.59    \n",
       "\n",
       "  Coordenada_UTM_Y   Longitud     Latitud  \n",
       "0       4580909.28  2.160.723  41.374.806  \n",
       "1       4580909.28  2.160.723  41.374.806  \n",
       "2       4582216.76  2.148.281  41.386.492  \n",
       "3       4585099.12  2.178.621  41.412.675  \n",
       "4       4590758.85  2.179.432  41.463.661  \n",
       "\n",
       "[5 rows x 27 columns]"
      ]
     },
     "execution_count": 3,
     "metadata": {},
     "output_type": "execute_result"
    }
   ],
   "source": [
    "peop.head()"
   ]
  },
  {
   "cell_type": "markdown",
   "metadata": {},
   "source": [
    "As I want to study which common characteristics the people involved in an accident have, there are some columns that I won't use, so I will drop them."
   ]
  },
  {
   "cell_type": "code",
   "execution_count": 4,
   "metadata": {},
   "outputs": [
    {
     "data": {
      "text/plain": [
       "Index(['Numero_expedient', 'Codi_districte', 'Nom_districte', 'Codi_barri',\n",
       "       'Nom_barri', 'Codi_carrer', 'Nom_carrer', 'Num_postal ',\n",
       "       'Descripcio_dia_setmana', 'Dia_setmana', 'Descripcio_tipus_dia', 'Any',\n",
       "       'Mes_ any', 'Nom_mes', 'Dia_mes', 'Hora_dia',\n",
       "       'Descripcio_causa_vianant', 'Desc_Tipus_vehicle_implicat',\n",
       "       'Descripcio_sexe', 'Edat', 'Descripcio_tipus_persona',\n",
       "       'Descripcio_situacio', 'Descripcio_victimitzacio', 'Coordenada_UTM_X',\n",
       "       'Coordenada_UTM_Y', 'Longitud', 'Latitud'],\n",
       "      dtype='object')"
      ]
     },
     "execution_count": 4,
     "metadata": {},
     "output_type": "execute_result"
    }
   ],
   "source": [
    "peop.columns #Checking the names of the columns."
   ]
  },
  {
   "cell_type": "code",
   "execution_count": 5,
   "metadata": {},
   "outputs": [],
   "source": [
    "#Dropping columns that I will not be using.\n",
    "peop.drop(columns = ['Codi_districte', 'Nom_districte', 'Codi_barri', \\\n",
    "                    'Nom_barri', 'Codi_carrer', 'Nom_carrer', 'Num_postal ', \\\n",
    "                    'Descripcio_dia_setmana', 'Dia_setmana', 'Descripcio_tipus_dia', 'Any', \\\n",
    "                    'Mes_ any', 'Nom_mes', 'Dia_mes', 'Hora_dia',\\\n",
    "                    'Descripcio_causa_vianant','Coordenada_UTM_X',\\\n",
    "                    'Coordenada_UTM_Y', 'Longitud', 'Latitud', 'Descripcio_situacio', 'Descripcio_victimitzacio' ], inplace = True)"
   ]
  },
  {
   "cell_type": "markdown",
   "metadata": {},
   "source": [
    "I rename the columns in order to make them self-explanatory."
   ]
  },
  {
   "cell_type": "code",
   "execution_count": 7,
   "metadata": {},
   "outputs": [],
   "source": [
    "peop.rename(columns = {'Codi_expedient': 'Accident_code', 'Desc_Tipus_vehicle_implicat': 'Vehicle_type', \\\n",
    "                      'Descripcio_sexe':'Gender','Descripcio_tipus_persona':'People_type',\\\n",
    "                      'Edat':'Age'},\n",
    "          inplace = True)"
   ]
  },
  {
   "cell_type": "markdown",
   "metadata": {},
   "source": [
    "##### Vehicle_type Column:\n",
    "First I check the different values inside this column."
   ]
  },
  {
   "cell_type": "code",
   "execution_count": 28,
   "metadata": {},
   "outputs": [
    {
     "data": {
      "text/plain": [
       "Bike    29853\n",
       "Car      6846\n",
       "Name: Vehicle_type, dtype: int64"
      ]
     },
     "execution_count": 28,
     "metadata": {},
     "output_type": "execute_result"
    }
   ],
   "source": [
    "peop['Vehicle_type'].value_counts() #Some values can be changed, Turismo and Turisme is the same."
   ]
  },
  {
   "cell_type": "markdown",
   "metadata": {},
   "source": [
    "I decided to change the name of different vehicle types and translate them into English."
   ]
  },
  {
   "cell_type": "code",
   "execution_count": 9,
   "metadata": {},
   "outputs": [],
   "source": [
    "peop['Vehicle_type'].replace({'Turisme':'Car', 'Turismo':'Car', 'Todo terreno':'Car', \\\n",
    "                             'Tot terreny':'Car','Motocicleta':'Bike','Ciclomotor':'Bike'}, inplace = True)"
   ]
  },
  {
   "cell_type": "markdown",
   "metadata": {},
   "source": [
    "As I am going to study which are the common attributes of people on accidents, I will base my study only on Cars and Bikes."
   ]
  },
  {
   "cell_type": "code",
   "execution_count": 10,
   "metadata": {},
   "outputs": [],
   "source": [
    "peop = peop.query('Vehicle_type == \"Car\" | Vehicle_type == \"Bike\"')"
   ]
  },
  {
   "cell_type": "markdown",
   "metadata": {},
   "source": [
    "##### People_type Column\n",
    "First,we check the values on People_type column:"
   ]
  },
  {
   "cell_type": "code",
   "execution_count": 11,
   "metadata": {},
   "outputs": [
    {
     "data": {
      "text/plain": [
       "Conductor    36699\n",
       "Passatger     8228\n",
       "Vianant       3886\n",
       "Name: People_type, dtype: int64"
      ]
     },
     "execution_count": 11,
     "metadata": {},
     "output_type": "execute_result"
    }
   ],
   "source": [
    "peop.People_type.value_counts() #I will only keep driver since are the ones that have to pay insurance."
   ]
  },
  {
   "cell_type": "code",
   "execution_count": 12,
   "metadata": {},
   "outputs": [],
   "source": [
    "peop['People_type'].replace({'Conductor':'Driver'}, inplace = True) \n",
    "#Changed the value Conductor to Driver to make it more understandable."
   ]
  },
  {
   "cell_type": "markdown",
   "metadata": {},
   "source": [
    "Since my analysis is about insurances, I will keep only the drivers, since they are the only ones subject to pay an insurance."
   ]
  },
  {
   "cell_type": "code",
   "execution_count": 13,
   "metadata": {},
   "outputs": [],
   "source": [
    "peop = peop.query('People_type == \"Driver\"') #I kept drivers and assigned them to peop variable."
   ]
  },
  {
   "cell_type": "markdown",
   "metadata": {},
   "source": [
    "##### Gender Column\n",
    "Let's check Gender Column."
   ]
  },
  {
   "cell_type": "code",
   "execution_count": 15,
   "metadata": {},
   "outputs": [
    {
     "data": {
      "text/plain": [
       "Home          26147\n",
       "Dona          10274\n",
       "Desconegut      278\n",
       "Name: Gender, dtype: int64"
      ]
     },
     "execution_count": 15,
     "metadata": {},
     "output_type": "execute_result"
    }
   ],
   "source": [
    "peop.Gender.value_counts()"
   ]
  },
  {
   "cell_type": "markdown",
   "metadata": {},
   "source": [
    "3 unique values: Home (man), Dona (woman), Desconegut (Unknown). I will translate them into English to make it more understandable."
   ]
  },
  {
   "cell_type": "code",
   "execution_count": 16,
   "metadata": {},
   "outputs": [],
   "source": [
    "peop['Gender'].replace({'Home':'Man', 'Dona':'Woman', 'Desconegut':'Unknown'}, inplace = True)"
   ]
  },
  {
   "cell_type": "markdown",
   "metadata": {},
   "source": [
    "##### Age Column\n",
    "First, I will get rid of the 'Desconegut' ages."
   ]
  },
  {
   "cell_type": "code",
   "execution_count": 21,
   "metadata": {},
   "outputs": [],
   "source": [
    "peop['Age'].replace({'Desconegut':999}, inplace = True) #Some unknown values as Desconegut, changed to 999."
   ]
  },
  {
   "cell_type": "markdown",
   "metadata": {},
   "source": [
    "Now, I am going to change the datatype into integer."
   ]
  },
  {
   "cell_type": "code",
   "execution_count": 25,
   "metadata": {},
   "outputs": [],
   "source": [
    "peop['Age'] = peop.Age.astype('int') #Changed to int."
   ]
  },
  {
   "cell_type": "markdown",
   "metadata": {},
   "source": [
    "Now, I am going to explore the distribution of Ages, to see if there are outliers."
   ]
  },
  {
   "cell_type": "code",
   "execution_count": 27,
   "metadata": {},
   "outputs": [
    {
     "data": {
      "text/plain": [
       "array([[<matplotlib.axes._subplots.AxesSubplot object at 0x11aa747b8>]],\n",
       "      dtype=object)"
      ]
     },
     "execution_count": 27,
     "metadata": {},
     "output_type": "execute_result"
    },
    {
     "data": {
      "image/png": "[encoded data removed]",
      "text/plain": [
       "<Figure size 432x288 with 1 Axes>"
      ]
     },
     "metadata": {
      "needs_background": "light"
     },
     "output_type": "display_data"
    }
   ],
   "source": [
    "peop.query('Age < 999').hist() #No outliers"
   ]
  },
  {
   "cell_type": "code",
   "execution_count": 32,
   "metadata": {},
   "outputs": [
    {
     "data": {
      "text/plain": [
       "1.188043270933813"
      ]
     },
     "execution_count": 32,
     "metadata": {},
     "output_type": "execute_result"
    }
   ],
   "source": [
    "len(peop.query('Age > 900 | Gender == \"Unknown\"'))*100/len(peop) #1% of unknown rows either in Gender or in Age."
   ]
  },
  {
   "cell_type": "markdown",
   "metadata": {},
   "source": [
    "Since the proportion of unknown information is 1.19%, I will drop these rows."
   ]
  },
  {
   "cell_type": "code",
   "execution_count": 35,
   "metadata": {},
   "outputs": [],
   "source": [
    "peop = peop.query('Age < 900 & Gender != \"Unknown\"') #Getting rid of unknown information."
   ]
  },
  {
   "cell_type": "markdown",
   "metadata": {},
   "source": [
    "Last step, I will save the clean dataset in my repository."
   ]
  },
  {
   "cell_type": "code",
   "execution_count": 37,
   "metadata": {},
   "outputs": [],
   "source": [
    "peop.to_csv('../Data/Clean_data/clean_people_bcn.csv') #Saving the file in Clean_data."
   ]
  }
 ],
 "metadata": {
  "kernelspec": {
   "display_name": "Python 3",
   "language": "python",
   "name": "python3"
  },
  "language_info": {
   "codemirror_mode": {
    "name": "ipython",
    "version": 3
   },
   "file_extension": ".py",
   "mimetype": "text/x-python",
   "name": "python",
   "nbconvert_exporter": "python",
   "pygments_lexer": "ipython3",
   "version": "3.7.3"
  }
 },
 "nbformat": 4,
 "nbformat_minor": 2
}
