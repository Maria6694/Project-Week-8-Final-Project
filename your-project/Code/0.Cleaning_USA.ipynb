{
 "cells": [
  {
   "cell_type": "markdown",
   "metadata": {},
   "source": [
    "## Data Cleaning USA:\n",
    "#### In this Jupyter Notebook you will find the process of data cleaning of a car insurance company from the USA.\n",
    "###### The process of Data Cleaning will be split in 2 depending on the type of data that I will be working on. Therefore, it contains 2 steps: Numerical data & Categorical data."
   ]
  },
  {
   "cell_type": "markdown",
   "metadata": {},
   "source": [
    "First, we will import the libraries that we will be using."
   ]
  },
  {
   "cell_type": "code",
   "execution_count": 353,
   "metadata": {},
   "outputs": [],
   "source": [
    "import pandas as pd\n",
    "import numpy as np\n",
    "import matplotlib as plt"
   ]
  },
  {
   "cell_type": "code",
   "execution_count": 354,
   "metadata": {},
   "outputs": [],
   "source": [
    "fig_size = plt.rcParams[\"figure.figsize\"]\n",
    "fig_size[0] = 10\n",
    "fig_size[1] = 10\n",
    "plt.rcParams[\"figure.figsize\"] = fig_size"
   ]
  },
  {
   "cell_type": "markdown",
   "metadata": {},
   "source": [
    "Then, we will import the dataset that we will be working on."
   ]
  },
  {
   "cell_type": "code",
   "execution_count": 355,
   "metadata": {},
   "outputs": [],
   "source": [
    "car = pd.read_csv('../Data/AutoInsurance.csv')"
   ]
  },
  {
   "cell_type": "markdown",
   "metadata": {},
   "source": [
    "We explore the dataset."
   ]
  },
  {
   "cell_type": "code",
   "execution_count": 356,
   "metadata": {},
   "outputs": [
    {
     "data": {
      "text/html": [
       "<div>\n",
       "<style scoped>\n",
       "    .dataframe tbody tr th:only-of-type {\n",
       "        vertical-align: middle;\n",
       "    }\n",
       "\n",
       "    .dataframe tbody tr th {\n",
       "        vertical-align: top;\n",
       "    }\n",
       "\n",
       "    .dataframe thead th {\n",
       "        text-align: right;\n",
       "    }\n",
       "</style>\n",
       "<table border=\"1\" class=\"dataframe\">\n",
       "  <thead>\n",
       "    <tr style=\"text-align: right;\">\n",
       "      <th></th>\n",
       "      <th>Customer</th>\n",
       "      <th>State</th>\n",
       "      <th>Customer Lifetime Value</th>\n",
       "      <th>Response</th>\n",
       "      <th>Coverage</th>\n",
       "      <th>Education</th>\n",
       "      <th>Effective To Date</th>\n",
       "      <th>EmploymentStatus</th>\n",
       "      <th>Gender</th>\n",
       "      <th>Income</th>\n",
       "      <th>...</th>\n",
       "      <th>Months Since Policy Inception</th>\n",
       "      <th>Number of Open Complaints</th>\n",
       "      <th>Number of Policies</th>\n",
       "      <th>Policy Type</th>\n",
       "      <th>Policy</th>\n",
       "      <th>Renew Offer Type</th>\n",
       "      <th>Sales Channel</th>\n",
       "      <th>Total Claim Amount</th>\n",
       "      <th>Vehicle Class</th>\n",
       "      <th>Vehicle Size</th>\n",
       "    </tr>\n",
       "  </thead>\n",
       "  <tbody>\n",
       "    <tr>\n",
       "      <th>0</th>\n",
       "      <td>BU79786</td>\n",
       "      <td>Washington</td>\n",
       "      <td>2763.519279</td>\n",
       "      <td>No</td>\n",
       "      <td>Basic</td>\n",
       "      <td>Bachelor</td>\n",
       "      <td>2/24/11</td>\n",
       "      <td>Employed</td>\n",
       "      <td>F</td>\n",
       "      <td>56274</td>\n",
       "      <td>...</td>\n",
       "      <td>5</td>\n",
       "      <td>0</td>\n",
       "      <td>1</td>\n",
       "      <td>Corporate Auto</td>\n",
       "      <td>Corporate L3</td>\n",
       "      <td>Offer1</td>\n",
       "      <td>Agent</td>\n",
       "      <td>384.811147</td>\n",
       "      <td>Two-Door Car</td>\n",
       "      <td>Medsize</td>\n",
       "    </tr>\n",
       "    <tr>\n",
       "      <th>1</th>\n",
       "      <td>QZ44356</td>\n",
       "      <td>Arizona</td>\n",
       "      <td>6979.535903</td>\n",
       "      <td>No</td>\n",
       "      <td>Extended</td>\n",
       "      <td>Bachelor</td>\n",
       "      <td>1/31/11</td>\n",
       "      <td>Unemployed</td>\n",
       "      <td>F</td>\n",
       "      <td>0</td>\n",
       "      <td>...</td>\n",
       "      <td>42</td>\n",
       "      <td>0</td>\n",
       "      <td>8</td>\n",
       "      <td>Personal Auto</td>\n",
       "      <td>Personal L3</td>\n",
       "      <td>Offer3</td>\n",
       "      <td>Agent</td>\n",
       "      <td>1131.464935</td>\n",
       "      <td>Four-Door Car</td>\n",
       "      <td>Medsize</td>\n",
       "    </tr>\n",
       "    <tr>\n",
       "      <th>2</th>\n",
       "      <td>AI49188</td>\n",
       "      <td>Nevada</td>\n",
       "      <td>12887.431650</td>\n",
       "      <td>No</td>\n",
       "      <td>Premium</td>\n",
       "      <td>Bachelor</td>\n",
       "      <td>2/19/11</td>\n",
       "      <td>Employed</td>\n",
       "      <td>F</td>\n",
       "      <td>48767</td>\n",
       "      <td>...</td>\n",
       "      <td>38</td>\n",
       "      <td>0</td>\n",
       "      <td>2</td>\n",
       "      <td>Personal Auto</td>\n",
       "      <td>Personal L3</td>\n",
       "      <td>Offer1</td>\n",
       "      <td>Agent</td>\n",
       "      <td>566.472247</td>\n",
       "      <td>Two-Door Car</td>\n",
       "      <td>Medsize</td>\n",
       "    </tr>\n",
       "    <tr>\n",
       "      <th>3</th>\n",
       "      <td>WW63253</td>\n",
       "      <td>California</td>\n",
       "      <td>7645.861827</td>\n",
       "      <td>No</td>\n",
       "      <td>Basic</td>\n",
       "      <td>Bachelor</td>\n",
       "      <td>1/20/11</td>\n",
       "      <td>Unemployed</td>\n",
       "      <td>M</td>\n",
       "      <td>0</td>\n",
       "      <td>...</td>\n",
       "      <td>65</td>\n",
       "      <td>0</td>\n",
       "      <td>7</td>\n",
       "      <td>Corporate Auto</td>\n",
       "      <td>Corporate L2</td>\n",
       "      <td>Offer1</td>\n",
       "      <td>Call Center</td>\n",
       "      <td>529.881344</td>\n",
       "      <td>SUV</td>\n",
       "      <td>Medsize</td>\n",
       "    </tr>\n",
       "    <tr>\n",
       "      <th>4</th>\n",
       "      <td>HB64268</td>\n",
       "      <td>Washington</td>\n",
       "      <td>2813.692575</td>\n",
       "      <td>No</td>\n",
       "      <td>Basic</td>\n",
       "      <td>Bachelor</td>\n",
       "      <td>3/2/2011</td>\n",
       "      <td>Employed</td>\n",
       "      <td>M</td>\n",
       "      <td>43836</td>\n",
       "      <td>...</td>\n",
       "      <td>44</td>\n",
       "      <td>0</td>\n",
       "      <td>1</td>\n",
       "      <td>Personal Auto</td>\n",
       "      <td>Personal L1</td>\n",
       "      <td>Offer1</td>\n",
       "      <td>Agent</td>\n",
       "      <td>138.130879</td>\n",
       "      <td>Four-Door Car</td>\n",
       "      <td>Medsize</td>\n",
       "    </tr>\n",
       "  </tbody>\n",
       "</table>\n",
       "<p>5 rows × 24 columns</p>\n",
       "</div>"
      ],
      "text/plain": [
       "  Customer       State  Customer Lifetime Value Response  Coverage Education  \\\n",
       "0  BU79786  Washington              2763.519279       No     Basic  Bachelor   \n",
       "1  QZ44356     Arizona              6979.535903       No  Extended  Bachelor   \n",
       "2  AI49188      Nevada             12887.431650       No   Premium  Bachelor   \n",
       "3  WW63253  California              7645.861827       No     Basic  Bachelor   \n",
       "4  HB64268  Washington              2813.692575       No     Basic  Bachelor   \n",
       "\n",
       "  Effective To Date EmploymentStatus Gender  Income  ...  \\\n",
       "0           2/24/11         Employed      F   56274  ...   \n",
       "1           1/31/11       Unemployed      F       0  ...   \n",
       "2           2/19/11         Employed      F   48767  ...   \n",
       "3           1/20/11       Unemployed      M       0  ...   \n",
       "4          3/2/2011         Employed      M   43836  ...   \n",
       "\n",
       "  Months Since Policy Inception Number of Open Complaints  Number of Policies  \\\n",
       "0                             5                         0                   1   \n",
       "1                            42                         0                   8   \n",
       "2                            38                         0                   2   \n",
       "3                            65                         0                   7   \n",
       "4                            44                         0                   1   \n",
       "\n",
       "      Policy Type        Policy  Renew Offer Type  Sales Channel  \\\n",
       "0  Corporate Auto  Corporate L3            Offer1          Agent   \n",
       "1   Personal Auto   Personal L3            Offer3          Agent   \n",
       "2   Personal Auto   Personal L3            Offer1          Agent   \n",
       "3  Corporate Auto  Corporate L2            Offer1    Call Center   \n",
       "4   Personal Auto   Personal L1            Offer1          Agent   \n",
       "\n",
       "  Total Claim Amount  Vehicle Class Vehicle Size  \n",
       "0         384.811147   Two-Door Car      Medsize  \n",
       "1        1131.464935  Four-Door Car      Medsize  \n",
       "2         566.472247   Two-Door Car      Medsize  \n",
       "3         529.881344            SUV      Medsize  \n",
       "4         138.130879  Four-Door Car      Medsize  \n",
       "\n",
       "[5 rows x 24 columns]"
      ]
     },
     "execution_count": 356,
     "metadata": {},
     "output_type": "execute_result"
    }
   ],
   "source": [
    "car.head()"
   ]
  },
  {
   "cell_type": "code",
   "execution_count": 357,
   "metadata": {},
   "outputs": [
    {
     "data": {
      "text/plain": [
       "Index(['Customer', 'State', 'Customer Lifetime Value', 'Response', 'Coverage',\n",
       "       'Education', 'Effective To Date', 'EmploymentStatus', 'Gender',\n",
       "       'Income', 'Location Code', 'Marital Status', 'Monthly Premium Auto',\n",
       "       'Months Since Last Claim', 'Months Since Policy Inception',\n",
       "       'Number of Open Complaints', 'Number of Policies', 'Policy Type',\n",
       "       'Policy', 'Renew Offer Type', 'Sales Channel', 'Total Claim Amount',\n",
       "       'Vehicle Class', 'Vehicle Size'],\n",
       "      dtype='object')"
      ]
     },
     "execution_count": 357,
     "metadata": {},
     "output_type": "execute_result"
    }
   ],
   "source": [
    "car.columns"
   ]
  },
  {
   "cell_type": "markdown",
   "metadata": {},
   "source": [
    "Columns and explanation of columns:\n",
    "- Customer: customer id\n",
    "- State: State\n",
    "- Customer Lifetime Value: total amount of money paid by client.\n",
    "- Response: No information included\n",
    "- Coverage: Type of insurance\n",
    "- Education: Education level of the customer.\n",
    "- Effective to Date: Date since when the insurance is active (They are usually activated in a yearly basis,if impayment it is not active)\n",
    "- EmploymentStatus: Status of employment.\n",
    "- Gender: Gender\n",
    "- Income: Yearly income.\n",
    "- Location Code:\n",
    "- Marital Status: Married or not.\n",
    "- Monthly Premium Auto: Amount paid in a monthly basis.\n",
    "- Months since Last Claim: Months since last accident.\n",
    "- Months Since Policy Inception: Months since activation of the insurance.\n",
    "- Number of Open Complaints: Number of accidents still open.\n",
    "- Number of Policies: Number of insurances hold by the same person\n",
    "- Policy Type: Personal / Corporate\n",
    "- Renew Offer Type: Next offer\n",
    "- Sales Channel: Channel of sales of insurance.\n",
    "- Total Claim Amount: Amount claimed by other insurances in car accident.\n",
    "- Vehicle Class: Type of car.\n",
    "- Vehicle Size: Size\n"
   ]
  },
  {
   "cell_type": "markdown",
   "metadata": {},
   "source": [
    "In order to work better with data I will change some column names."
   ]
  },
  {
   "cell_type": "code",
   "execution_count": 358,
   "metadata": {},
   "outputs": [],
   "source": [
    "car.rename(columns = {'Customer Lifetime Value':'LTV', 'Effective To Date':'Expiration_date',\\\n",
    "                      'EmploymentStatus': 'Job_Status','Location Code':'Location',\\\n",
    "                      'Marital Status':'Civil_Status', 'Monthly Premium Auto':'Monthly_Price' ,\\\n",
    "                      'Months Since Last Claim': 'Months_LastClaim',\\\n",
    "                      'Months Since Policy Inception': 'Months_SinceActivation',\\\n",
    "                      'Number of Open Complaints':'Number_Open_Complaints',\n",
    "                      'Number of Policies':'Number_Insurances',\\\n",
    "                      'Renew Offer Type':'Offer_Type_Renew', 'Sales Channel': 'Sales_Channel', \\\n",
    "                      'Total Claim Amount':'Total_Claim_Amount',\\\n",
    "                      'Vehicle Class':'Car_Type', 'Vehicle Size':'Car_Size', \\\n",
    "                      'Policy Type': 'Policy_Type'}, inplace = True)"
   ]
  },
  {
   "cell_type": "code",
   "execution_count": 359,
   "metadata": {
    "scrolled": true
   },
   "outputs": [
    {
     "data": {
      "text/plain": [
       "Index(['Customer', 'State', 'LTV', 'Response', 'Coverage', 'Education',\n",
       "       'Expiration_date', 'Job_Status', 'Gender', 'Income', 'Location',\n",
       "       'Civil_Status', 'Monthly_Price', 'Months_LastClaim',\n",
       "       'Months_SinceActivation', 'Number_Open_Complaints', 'Number_Insurances',\n",
       "       'Policy_Type', 'Policy', 'Offer_Type_Renew', 'Sales_Channel',\n",
       "       'Total_Claim_Amount', 'Car_Type', 'Car_Size'],\n",
       "      dtype='object')"
      ]
     },
     "execution_count": 359,
     "metadata": {},
     "output_type": "execute_result"
    }
   ],
   "source": [
    "car.columns"
   ]
  },
  {
   "cell_type": "markdown",
   "metadata": {},
   "source": [
    "I decide to drop some columns since I will not be using them in this project."
   ]
  },
  {
   "cell_type": "code",
   "execution_count": 360,
   "metadata": {},
   "outputs": [],
   "source": [
    "car.drop(columns = ['Response', 'Policy', 'Offer_Type_Renew','LTV','Expiration_date', 'Total_Claim_Amount'], inplace = True)"
   ]
  },
  {
   "cell_type": "markdown",
   "metadata": {},
   "source": [
    "Now I'm going to check the type of the data we have and empty values."
   ]
  },
  {
   "cell_type": "code",
   "execution_count": 361,
   "metadata": {},
   "outputs": [
    {
     "name": "stdout",
     "output_type": "stream",
     "text": [
      "<class 'pandas.core.frame.DataFrame'>\n",
      "RangeIndex: 9134 entries, 0 to 9133\n",
      "Data columns (total 18 columns):\n",
      "Customer                  9134 non-null object\n",
      "State                     9134 non-null object\n",
      "Coverage                  9134 non-null object\n",
      "Education                 9134 non-null object\n",
      "Job_Status                9134 non-null object\n",
      "Gender                    9134 non-null object\n",
      "Income                    9134 non-null int64\n",
      "Location                  9134 non-null object\n",
      "Civil_Status              9134 non-null object\n",
      "Monthly_Price             9134 non-null int64\n",
      "Months_LastClaim          9134 non-null int64\n",
      "Months_SinceActivation    9134 non-null int64\n",
      "Number_Open_Complaints    9134 non-null int64\n",
      "Number_Insurances         9134 non-null int64\n",
      "Policy_Type               9134 non-null object\n",
      "Sales_Channel             9134 non-null object\n",
      "Car_Type                  9134 non-null object\n",
      "Car_Size                  9134 non-null object\n",
      "dtypes: int64(6), object(12)\n",
      "memory usage: 1.3+ MB\n"
     ]
    }
   ],
   "source": [
    "car.info()"
   ]
  },
  {
   "cell_type": "markdown",
   "metadata": {},
   "source": [
    "No null values found and the data types are correct.\n",
    "\n",
    "\n",
    "### Numerical data\n",
    "###### Let's start by cleaning numerical data.\n",
    "\n",
    "\n",
    "Let's check the describe function in order to see if there are anomalies in our data."
   ]
  },
  {
   "cell_type": "code",
   "execution_count": 362,
   "metadata": {},
   "outputs": [
    {
     "data": {
      "text/html": [
       "<div>\n",
       "<style scoped>\n",
       "    .dataframe tbody tr th:only-of-type {\n",
       "        vertical-align: middle;\n",
       "    }\n",
       "\n",
       "    .dataframe tbody tr th {\n",
       "        vertical-align: top;\n",
       "    }\n",
       "\n",
       "    .dataframe thead th {\n",
       "        text-align: right;\n",
       "    }\n",
       "</style>\n",
       "<table border=\"1\" class=\"dataframe\">\n",
       "  <thead>\n",
       "    <tr style=\"text-align: right;\">\n",
       "      <th></th>\n",
       "      <th>Income</th>\n",
       "      <th>Monthly_Price</th>\n",
       "      <th>Months_LastClaim</th>\n",
       "      <th>Months_SinceActivation</th>\n",
       "      <th>Number_Open_Complaints</th>\n",
       "      <th>Number_Insurances</th>\n",
       "    </tr>\n",
       "  </thead>\n",
       "  <tbody>\n",
       "    <tr>\n",
       "      <th>count</th>\n",
       "      <td>9134.000000</td>\n",
       "      <td>9134.000000</td>\n",
       "      <td>9134.000000</td>\n",
       "      <td>9134.000000</td>\n",
       "      <td>9134.000000</td>\n",
       "      <td>9134.000000</td>\n",
       "    </tr>\n",
       "    <tr>\n",
       "      <th>mean</th>\n",
       "      <td>37657.380009</td>\n",
       "      <td>93.219291</td>\n",
       "      <td>15.097000</td>\n",
       "      <td>48.064594</td>\n",
       "      <td>0.384388</td>\n",
       "      <td>2.966170</td>\n",
       "    </tr>\n",
       "    <tr>\n",
       "      <th>std</th>\n",
       "      <td>30379.904734</td>\n",
       "      <td>34.407967</td>\n",
       "      <td>10.073257</td>\n",
       "      <td>27.905991</td>\n",
       "      <td>0.910384</td>\n",
       "      <td>2.390182</td>\n",
       "    </tr>\n",
       "    <tr>\n",
       "      <th>min</th>\n",
       "      <td>0.000000</td>\n",
       "      <td>61.000000</td>\n",
       "      <td>0.000000</td>\n",
       "      <td>0.000000</td>\n",
       "      <td>0.000000</td>\n",
       "      <td>1.000000</td>\n",
       "    </tr>\n",
       "    <tr>\n",
       "      <th>25%</th>\n",
       "      <td>0.000000</td>\n",
       "      <td>68.000000</td>\n",
       "      <td>6.000000</td>\n",
       "      <td>24.000000</td>\n",
       "      <td>0.000000</td>\n",
       "      <td>1.000000</td>\n",
       "    </tr>\n",
       "    <tr>\n",
       "      <th>50%</th>\n",
       "      <td>33889.500000</td>\n",
       "      <td>83.000000</td>\n",
       "      <td>14.000000</td>\n",
       "      <td>48.000000</td>\n",
       "      <td>0.000000</td>\n",
       "      <td>2.000000</td>\n",
       "    </tr>\n",
       "    <tr>\n",
       "      <th>75%</th>\n",
       "      <td>62320.000000</td>\n",
       "      <td>109.000000</td>\n",
       "      <td>23.000000</td>\n",
       "      <td>71.000000</td>\n",
       "      <td>0.000000</td>\n",
       "      <td>4.000000</td>\n",
       "    </tr>\n",
       "    <tr>\n",
       "      <th>max</th>\n",
       "      <td>99981.000000</td>\n",
       "      <td>298.000000</td>\n",
       "      <td>35.000000</td>\n",
       "      <td>99.000000</td>\n",
       "      <td>5.000000</td>\n",
       "      <td>9.000000</td>\n",
       "    </tr>\n",
       "  </tbody>\n",
       "</table>\n",
       "</div>"
      ],
      "text/plain": [
       "             Income  Monthly_Price  Months_LastClaim  Months_SinceActivation  \\\n",
       "count   9134.000000    9134.000000       9134.000000             9134.000000   \n",
       "mean   37657.380009      93.219291         15.097000               48.064594   \n",
       "std    30379.904734      34.407967         10.073257               27.905991   \n",
       "min        0.000000      61.000000          0.000000                0.000000   \n",
       "25%        0.000000      68.000000          6.000000               24.000000   \n",
       "50%    33889.500000      83.000000         14.000000               48.000000   \n",
       "75%    62320.000000     109.000000         23.000000               71.000000   \n",
       "max    99981.000000     298.000000         35.000000               99.000000   \n",
       "\n",
       "       Number_Open_Complaints  Number_Insurances  \n",
       "count             9134.000000        9134.000000  \n",
       "mean                 0.384388           2.966170  \n",
       "std                  0.910384           2.390182  \n",
       "min                  0.000000           1.000000  \n",
       "25%                  0.000000           1.000000  \n",
       "50%                  0.000000           2.000000  \n",
       "75%                  0.000000           4.000000  \n",
       "max                  5.000000           9.000000  "
      ]
     },
     "execution_count": 362,
     "metadata": {},
     "output_type": "execute_result"
    }
   ],
   "source": [
    "car.describe()"
   ]
  },
  {
   "cell_type": "markdown",
   "metadata": {},
   "source": [
    "We can see some strange numbers in Income, Number_Insurances and Number_Open_Complaints. Let's check in a boxplot, if there are outliers"
   ]
  },
  {
   "cell_type": "code",
   "execution_count": 363,
   "metadata": {},
   "outputs": [
    {
     "data": {
      "text/plain": [
       "<matplotlib.axes._subplots.AxesSubplot at 0x1236adcf8>"
      ]
     },
     "execution_count": 363,
     "metadata": {},
     "output_type": "execute_result"
    },
    {
     "data": {
      "image/png": "[encoded data removed]",
      "text/plain": [
       "<Figure size 720x720 with 1 Axes>"
      ]
     },
     "metadata": {
      "needs_background": "light"
     },
     "output_type": "display_data"
    }
   ],
   "source": [
    "car.boxplot() #By looking at the boxplots, we can see that there might be some outliers."
   ]
  },
  {
   "cell_type": "code",
   "execution_count": 364,
   "metadata": {},
   "outputs": [
    {
     "data": {
      "text/plain": [
       "<matplotlib.axes._subplots.AxesSubplot at 0x122bc3d30>"
      ]
     },
     "execution_count": 364,
     "metadata": {},
     "output_type": "execute_result"
    },
    {
     "data": {
      "image/png": "[encoded data removed]",
      "text/plain": [
       "<Figure size 720x720 with 1 Axes>"
      ]
     },
     "metadata": {
      "needs_background": "light"
     },
     "output_type": "display_data"
    }
   ],
   "source": [
    "car.boxplot(['Monthly_Price', 'Months_LastClaim', 'Months_SinceActivation', 'Number_Open_Complaints', 'Number_Insurances'])"
   ]
  },
  {
   "cell_type": "markdown",
   "metadata": {},
   "source": [
    "###### Let's start looking at Income.\n",
    "It seems that there might not be outliers, let's check it individually."
   ]
  },
  {
   "cell_type": "code",
   "execution_count": 365,
   "metadata": {},
   "outputs": [
    {
     "data": {
      "text/plain": [
       "<matplotlib.axes._subplots.AxesSubplot at 0x1231ced30>"
      ]
     },
     "execution_count": 365,
     "metadata": {},
     "output_type": "execute_result"
    },
    {
     "data": {
      "image/png": "[encoded data removed]",
      "text/plain": [
       "<Figure size 720x720 with 1 Axes>"
      ]
     },
     "metadata": {
      "needs_background": "light"
     },
     "output_type": "display_data"
    }
   ],
   "source": [
    "car.boxplot(column = 'Income') #As expected, no outliers"
   ]
  },
  {
   "cell_type": "markdown",
   "metadata": {},
   "source": [
    "Even though there are no shown outliers in the Income column, there are some values at 0, which correspond to Unemployed customers (25%), as seen below."
   ]
  },
  {
   "cell_type": "code",
   "execution_count": 366,
   "metadata": {},
   "outputs": [
    {
     "data": {
      "text/plain": [
       "Job_Status\n",
       "Disabled         10097\n",
       "Employed         20009\n",
       "Medical Leave    10037\n",
       "Retired          10180\n",
       "Unemployed           0\n",
       "Name: Income, dtype: int64"
      ]
     },
     "execution_count": 366,
     "metadata": {},
     "output_type": "execute_result"
    }
   ],
   "source": [
    "car.groupby('Job_Status').min()['Income'] "
   ]
  },
  {
   "cell_type": "code",
   "execution_count": 367,
   "metadata": {},
   "outputs": [
    {
     "data": {
      "text/plain": [
       "0.25366761550251804"
      ]
     },
     "execution_count": 367,
     "metadata": {},
     "output_type": "execute_result"
    }
   ],
   "source": [
    "#Checking the proportion of Unemployed. \n",
    "len(car.query('Income==0'))/len(car)"
   ]
  },
  {
   "cell_type": "markdown",
   "metadata": {},
   "source": [
    "###### Inside Monthly Price"
   ]
  },
  {
   "cell_type": "markdown",
   "metadata": {},
   "source": [
    "Looking at the boxplot graph above, we can see that there are outliers. In order to check if they are outliers or not, we will apply the 3 times the Interquartile Range. So, if a value is far from 3 times the Interquartile Ranfe, it will be an outlier."
   ]
  },
  {
   "cell_type": "code",
   "execution_count": 368,
   "metadata": {},
   "outputs": [],
   "source": [
    "q1,q3= np.quantile(car['Monthly_Price'],[0.25,0.75]) #q1 and q3 are the quantiles of column LTV"
   ]
  },
  {
   "cell_type": "code",
   "execution_count": 369,
   "metadata": {},
   "outputs": [],
   "source": [
    "iqr = q3-q1 #interquartile range of ltv\n",
    "lower = q1 - iqr*3 #Lower limit\n",
    "upper = q3 + iqr*3 #Upper limit"
   ]
  },
  {
   "cell_type": "markdown",
   "metadata": {},
   "source": [
    "Let's check the proportion of outliers:"
   ]
  },
  {
   "cell_type": "code",
   "execution_count": 370,
   "metadata": {},
   "outputs": [
    {
     "data": {
      "text/plain": [
       "0.009415371140792644"
      ]
     },
     "execution_count": 370,
     "metadata": {},
     "output_type": "execute_result"
    }
   ],
   "source": [
    "len(car.query(f'Monthly_Price < {lower} | Monthly_Price > {upper}'))/len(car)"
   ]
  },
  {
   "cell_type": "markdown",
   "metadata": {},
   "source": [
    "0.9% of outliers with respect to the original dataframe so, we could delete them."
   ]
  },
  {
   "cell_type": "code",
   "execution_count": 371,
   "metadata": {},
   "outputs": [
    {
     "data": {
      "text/html": [
       "<div>\n",
       "<style scoped>\n",
       "    .dataframe tbody tr th:only-of-type {\n",
       "        vertical-align: middle;\n",
       "    }\n",
       "\n",
       "    .dataframe tbody tr th {\n",
       "        vertical-align: top;\n",
       "    }\n",
       "\n",
       "    .dataframe thead th {\n",
       "        text-align: right;\n",
       "    }\n",
       "</style>\n",
       "<table border=\"1\" class=\"dataframe\">\n",
       "  <thead>\n",
       "    <tr style=\"text-align: right;\">\n",
       "      <th></th>\n",
       "      <th>Customer</th>\n",
       "      <th>State</th>\n",
       "      <th>Coverage</th>\n",
       "      <th>Education</th>\n",
       "      <th>Job_Status</th>\n",
       "      <th>Gender</th>\n",
       "      <th>Income</th>\n",
       "      <th>Location</th>\n",
       "      <th>Civil_Status</th>\n",
       "      <th>Monthly_Price</th>\n",
       "      <th>Months_LastClaim</th>\n",
       "      <th>Months_SinceActivation</th>\n",
       "      <th>Number_Open_Complaints</th>\n",
       "      <th>Number_Insurances</th>\n",
       "      <th>Policy_Type</th>\n",
       "      <th>Sales_Channel</th>\n",
       "      <th>Car_Type</th>\n",
       "      <th>Car_Size</th>\n",
       "    </tr>\n",
       "  </thead>\n",
       "  <tbody>\n",
       "    <tr>\n",
       "      <th>31</th>\n",
       "      <td>UL64533</td>\n",
       "      <td>Nevada</td>\n",
       "      <td>Extended</td>\n",
       "      <td>High School or Below</td>\n",
       "      <td>Employed</td>\n",
       "      <td>M</td>\n",
       "      <td>65999</td>\n",
       "      <td>Urban</td>\n",
       "      <td>Married</td>\n",
       "      <td>237</td>\n",
       "      <td>1</td>\n",
       "      <td>14</td>\n",
       "      <td>0</td>\n",
       "      <td>6</td>\n",
       "      <td>Corporate Auto</td>\n",
       "      <td>Agent</td>\n",
       "      <td>Luxury SUV</td>\n",
       "      <td>Medsize</td>\n",
       "    </tr>\n",
       "    <tr>\n",
       "      <th>196</th>\n",
       "      <td>AZ62651</td>\n",
       "      <td>Oregon</td>\n",
       "      <td>Premium</td>\n",
       "      <td>High School or Below</td>\n",
       "      <td>Employed</td>\n",
       "      <td>M</td>\n",
       "      <td>56855</td>\n",
       "      <td>Suburban</td>\n",
       "      <td>Single</td>\n",
       "      <td>255</td>\n",
       "      <td>12</td>\n",
       "      <td>1</td>\n",
       "      <td>0</td>\n",
       "      <td>1</td>\n",
       "      <td>Corporate Auto</td>\n",
       "      <td>Web</td>\n",
       "      <td>Luxury SUV</td>\n",
       "      <td>Medsize</td>\n",
       "    </tr>\n",
       "    <tr>\n",
       "      <th>248</th>\n",
       "      <td>FO35655</td>\n",
       "      <td>Oregon</td>\n",
       "      <td>Extended</td>\n",
       "      <td>Bachelor</td>\n",
       "      <td>Unemployed</td>\n",
       "      <td>M</td>\n",
       "      <td>0</td>\n",
       "      <td>Suburban</td>\n",
       "      <td>Single</td>\n",
       "      <td>245</td>\n",
       "      <td>34</td>\n",
       "      <td>83</td>\n",
       "      <td>0</td>\n",
       "      <td>1</td>\n",
       "      <td>Corporate Auto</td>\n",
       "      <td>Branch</td>\n",
       "      <td>Luxury SUV</td>\n",
       "      <td>Medsize</td>\n",
       "    </tr>\n",
       "    <tr>\n",
       "      <th>404</th>\n",
       "      <td>DJ91267</td>\n",
       "      <td>Nevada</td>\n",
       "      <td>Extended</td>\n",
       "      <td>Bachelor</td>\n",
       "      <td>Employed</td>\n",
       "      <td>F</td>\n",
       "      <td>34226</td>\n",
       "      <td>Rural</td>\n",
       "      <td>Married</td>\n",
       "      <td>244</td>\n",
       "      <td>29</td>\n",
       "      <td>22</td>\n",
       "      <td>0</td>\n",
       "      <td>2</td>\n",
       "      <td>Personal Auto</td>\n",
       "      <td>Agent</td>\n",
       "      <td>Luxury SUV</td>\n",
       "      <td>Small</td>\n",
       "    </tr>\n",
       "    <tr>\n",
       "      <th>496</th>\n",
       "      <td>JC11405</td>\n",
       "      <td>Oregon</td>\n",
       "      <td>Premium</td>\n",
       "      <td>High School or Below</td>\n",
       "      <td>Employed</td>\n",
       "      <td>M</td>\n",
       "      <td>55687</td>\n",
       "      <td>Suburban</td>\n",
       "      <td>Divorced</td>\n",
       "      <td>276</td>\n",
       "      <td>33</td>\n",
       "      <td>91</td>\n",
       "      <td>0</td>\n",
       "      <td>1</td>\n",
       "      <td>Personal Auto</td>\n",
       "      <td>Agent</td>\n",
       "      <td>Luxury SUV</td>\n",
       "      <td>Medsize</td>\n",
       "    </tr>\n",
       "    <tr>\n",
       "      <th>...</th>\n",
       "      <td>...</td>\n",
       "      <td>...</td>\n",
       "      <td>...</td>\n",
       "      <td>...</td>\n",
       "      <td>...</td>\n",
       "      <td>...</td>\n",
       "      <td>...</td>\n",
       "      <td>...</td>\n",
       "      <td>...</td>\n",
       "      <td>...</td>\n",
       "      <td>...</td>\n",
       "      <td>...</td>\n",
       "      <td>...</td>\n",
       "      <td>...</td>\n",
       "      <td>...</td>\n",
       "      <td>...</td>\n",
       "      <td>...</td>\n",
       "      <td>...</td>\n",
       "    </tr>\n",
       "    <tr>\n",
       "      <th>8662</th>\n",
       "      <td>FS38926</td>\n",
       "      <td>California</td>\n",
       "      <td>Extended</td>\n",
       "      <td>Bachelor</td>\n",
       "      <td>Employed</td>\n",
       "      <td>F</td>\n",
       "      <td>66022</td>\n",
       "      <td>Rural</td>\n",
       "      <td>Married</td>\n",
       "      <td>239</td>\n",
       "      <td>17</td>\n",
       "      <td>80</td>\n",
       "      <td>0</td>\n",
       "      <td>1</td>\n",
       "      <td>Personal Auto</td>\n",
       "      <td>Web</td>\n",
       "      <td>Luxury Car</td>\n",
       "      <td>Medsize</td>\n",
       "    </tr>\n",
       "    <tr>\n",
       "      <th>8853</th>\n",
       "      <td>JY66887</td>\n",
       "      <td>California</td>\n",
       "      <td>Extended</td>\n",
       "      <td>High School or Below</td>\n",
       "      <td>Unemployed</td>\n",
       "      <td>F</td>\n",
       "      <td>0</td>\n",
       "      <td>Suburban</td>\n",
       "      <td>Single</td>\n",
       "      <td>247</td>\n",
       "      <td>5</td>\n",
       "      <td>12</td>\n",
       "      <td>3</td>\n",
       "      <td>5</td>\n",
       "      <td>Personal Auto</td>\n",
       "      <td>Branch</td>\n",
       "      <td>Luxury Car</td>\n",
       "      <td>Medsize</td>\n",
       "    </tr>\n",
       "    <tr>\n",
       "      <th>8911</th>\n",
       "      <td>QK82654</td>\n",
       "      <td>California</td>\n",
       "      <td>Premium</td>\n",
       "      <td>College</td>\n",
       "      <td>Unemployed</td>\n",
       "      <td>M</td>\n",
       "      <td>0</td>\n",
       "      <td>Suburban</td>\n",
       "      <td>Single</td>\n",
       "      <td>286</td>\n",
       "      <td>3</td>\n",
       "      <td>3</td>\n",
       "      <td>0</td>\n",
       "      <td>9</td>\n",
       "      <td>Personal Auto</td>\n",
       "      <td>Agent</td>\n",
       "      <td>Luxury SUV</td>\n",
       "      <td>Small</td>\n",
       "    </tr>\n",
       "    <tr>\n",
       "      <th>8943</th>\n",
       "      <td>FM12425</td>\n",
       "      <td>California</td>\n",
       "      <td>Extended</td>\n",
       "      <td>College</td>\n",
       "      <td>Employed</td>\n",
       "      <td>M</td>\n",
       "      <td>26488</td>\n",
       "      <td>Suburban</td>\n",
       "      <td>Divorced</td>\n",
       "      <td>247</td>\n",
       "      <td>21</td>\n",
       "      <td>39</td>\n",
       "      <td>0</td>\n",
       "      <td>7</td>\n",
       "      <td>Personal Auto</td>\n",
       "      <td>Web</td>\n",
       "      <td>Luxury SUV</td>\n",
       "      <td>Medsize</td>\n",
       "    </tr>\n",
       "    <tr>\n",
       "      <th>9049</th>\n",
       "      <td>UZ14076</td>\n",
       "      <td>California</td>\n",
       "      <td>Premium</td>\n",
       "      <td>High School or Below</td>\n",
       "      <td>Employed</td>\n",
       "      <td>F</td>\n",
       "      <td>89546</td>\n",
       "      <td>Suburban</td>\n",
       "      <td>Married</td>\n",
       "      <td>266</td>\n",
       "      <td>4</td>\n",
       "      <td>18</td>\n",
       "      <td>1</td>\n",
       "      <td>2</td>\n",
       "      <td>Corporate Auto</td>\n",
       "      <td>Agent</td>\n",
       "      <td>Luxury SUV</td>\n",
       "      <td>Large</td>\n",
       "    </tr>\n",
       "  </tbody>\n",
       "</table>\n",
       "<p>86 rows × 18 columns</p>\n",
       "</div>"
      ],
      "text/plain": [
       "     Customer       State  Coverage             Education  Job_Status Gender  \\\n",
       "31    UL64533      Nevada  Extended  High School or Below    Employed      M   \n",
       "196   AZ62651      Oregon   Premium  High School or Below    Employed      M   \n",
       "248   FO35655      Oregon  Extended              Bachelor  Unemployed      M   \n",
       "404   DJ91267      Nevada  Extended              Bachelor    Employed      F   \n",
       "496   JC11405      Oregon   Premium  High School or Below    Employed      M   \n",
       "...       ...         ...       ...                   ...         ...    ...   \n",
       "8662  FS38926  California  Extended              Bachelor    Employed      F   \n",
       "8853  JY66887  California  Extended  High School or Below  Unemployed      F   \n",
       "8911  QK82654  California   Premium               College  Unemployed      M   \n",
       "8943  FM12425  California  Extended               College    Employed      M   \n",
       "9049  UZ14076  California   Premium  High School or Below    Employed      F   \n",
       "\n",
       "      Income  Location Civil_Status  Monthly_Price  Months_LastClaim  \\\n",
       "31     65999     Urban      Married            237                 1   \n",
       "196    56855  Suburban       Single            255                12   \n",
       "248        0  Suburban       Single            245                34   \n",
       "404    34226     Rural      Married            244                29   \n",
       "496    55687  Suburban     Divorced            276                33   \n",
       "...      ...       ...          ...            ...               ...   \n",
       "8662   66022     Rural      Married            239                17   \n",
       "8853       0  Suburban       Single            247                 5   \n",
       "8911       0  Suburban       Single            286                 3   \n",
       "8943   26488  Suburban     Divorced            247                21   \n",
       "9049   89546  Suburban      Married            266                 4   \n",
       "\n",
       "      Months_SinceActivation  Number_Open_Complaints  Number_Insurances  \\\n",
       "31                        14                       0                  6   \n",
       "196                        1                       0                  1   \n",
       "248                       83                       0                  1   \n",
       "404                       22                       0                  2   \n",
       "496                       91                       0                  1   \n",
       "...                      ...                     ...                ...   \n",
       "8662                      80                       0                  1   \n",
       "8853                      12                       3                  5   \n",
       "8911                       3                       0                  9   \n",
       "8943                      39                       0                  7   \n",
       "9049                      18                       1                  2   \n",
       "\n",
       "         Policy_Type Sales_Channel    Car_Type Car_Size  \n",
       "31    Corporate Auto         Agent  Luxury SUV  Medsize  \n",
       "196   Corporate Auto           Web  Luxury SUV  Medsize  \n",
       "248   Corporate Auto        Branch  Luxury SUV  Medsize  \n",
       "404    Personal Auto         Agent  Luxury SUV    Small  \n",
       "496    Personal Auto         Agent  Luxury SUV  Medsize  \n",
       "...              ...           ...         ...      ...  \n",
       "8662   Personal Auto           Web  Luxury Car  Medsize  \n",
       "8853   Personal Auto        Branch  Luxury Car  Medsize  \n",
       "8911   Personal Auto         Agent  Luxury SUV    Small  \n",
       "8943   Personal Auto           Web  Luxury SUV  Medsize  \n",
       "9049  Corporate Auto         Agent  Luxury SUV    Large  \n",
       "\n",
       "[86 rows x 18 columns]"
      ]
     },
     "execution_count": 371,
     "metadata": {},
     "output_type": "execute_result"
    }
   ],
   "source": [
    "car.query(f'Monthly_Price < {lower} | Monthly_Price > {upper}') #Checking outliers"
   ]
  },
  {
   "cell_type": "markdown",
   "metadata": {},
   "source": [
    "After checking the outliers, we can see that the other information is ok, so I will check the distribution in histogram."
   ]
  },
  {
   "cell_type": "code",
   "execution_count": 372,
   "metadata": {},
   "outputs": [
    {
     "data": {
      "text/plain": [
       "array([[<matplotlib.axes._subplots.AxesSubplot object at 0x120a77940>]],\n",
       "      dtype=object)"
      ]
     },
     "execution_count": 372,
     "metadata": {},
     "output_type": "execute_result"
    },
    {
     "data": {
      "image/png": "[encoded data removed]",
      "text/plain": [
       "<Figure size 720x720 with 1 Axes>"
      ]
     },
     "metadata": {
      "needs_background": "light"
     },
     "output_type": "display_data"
    }
   ],
   "source": [
    "car.hist('Monthly_Price')"
   ]
  },
  {
   "cell_type": "markdown",
   "metadata": {},
   "source": [
    "By the graph above we can see that the distribution is skewed to the left and it makes sense that low amount of people pay higher prices. Therefore, I have decided not to delete them in order to keep the information in the other columns."
   ]
  },
  {
   "cell_type": "markdown",
   "metadata": {},
   "source": [
    "###### Inside Months_LastClaim &  Inside Months_SinceActivation"
   ]
  },
  {
   "cell_type": "code",
   "execution_count": 373,
   "metadata": {},
   "outputs": [
    {
     "data": {
      "text/plain": [
       "<matplotlib.axes._subplots.AxesSubplot at 0x121a68160>"
      ]
     },
     "execution_count": 373,
     "metadata": {},
     "output_type": "execute_result"
    },
    {
     "data": {
      "image/png": "[encoded data removed]",
      "text/plain": [
       "<Figure size 720x720 with 1 Axes>"
      ]
     },
     "metadata": {
      "needs_background": "light"
     },
     "output_type": "display_data"
    }
   ],
   "source": [
    "car.boxplot(['Months_LastClaim', 'Months_SinceActivation']) \n",
    "#I am examining here if in a more zoomed look there are ouliers"
   ]
  },
  {
   "cell_type": "markdown",
   "metadata": {},
   "source": [
    "It seems that these column does not have outliers. In addition, I have not observed anything strange on the describe."
   ]
  },
  {
   "cell_type": "markdown",
   "metadata": {},
   "source": [
    "###### Inside Number_Open_Complaints"
   ]
  },
  {
   "cell_type": "code",
   "execution_count": 374,
   "metadata": {},
   "outputs": [
    {
     "data": {
      "text/plain": [
       "<matplotlib.axes._subplots.AxesSubplot at 0x121a93a58>"
      ]
     },
     "execution_count": 374,
     "metadata": {},
     "output_type": "execute_result"
    },
    {
     "data": {
      "image/png": "[encoded data removed]",
      "text/plain": [
       "<Figure size 720x720 with 1 Axes>"
      ]
     },
     "metadata": {
      "needs_background": "light"
     },
     "output_type": "display_data"
    }
   ],
   "source": [
    "car.boxplot('Number_Open_Complaints')\n",
    "#It seems that there are some outliers"
   ]
  },
  {
   "cell_type": "markdown",
   "metadata": {},
   "source": [
    "After having a look at the boxplot, we can see that there are some outliers that correspond to people having 1 or more open claim. Hence, I am not considering them outliers since, they are people that complement my analysis, if I get rid of those, my analysis will not make sense."
   ]
  },
  {
   "cell_type": "markdown",
   "metadata": {},
   "source": [
    "###### Inside Number_Insurances"
   ]
  },
  {
   "cell_type": "code",
   "execution_count": 375,
   "metadata": {},
   "outputs": [
    {
     "data": {
      "text/plain": [
       "<matplotlib.axes._subplots.AxesSubplot at 0x121162ac8>"
      ]
     },
     "execution_count": 375,
     "metadata": {},
     "output_type": "execute_result"
    },
    {
     "data": {
      "image/png": "[encoded data removed]",
      "text/plain": [
       "<Figure size 720x720 with 1 Axes>"
      ]
     },
     "metadata": {
      "needs_background": "light"
     },
     "output_type": "display_data"
    }
   ],
   "source": [
    "car.boxplot('Number_Insurances')"
   ]
  },
  {
   "cell_type": "code",
   "execution_count": 376,
   "metadata": {},
   "outputs": [
    {
     "data": {
      "text/html": [
       "<div>\n",
       "<style scoped>\n",
       "    .dataframe tbody tr th:only-of-type {\n",
       "        vertical-align: middle;\n",
       "    }\n",
       "\n",
       "    .dataframe tbody tr th {\n",
       "        vertical-align: top;\n",
       "    }\n",
       "\n",
       "    .dataframe thead th {\n",
       "        text-align: right;\n",
       "    }\n",
       "</style>\n",
       "<table border=\"1\" class=\"dataframe\">\n",
       "  <thead>\n",
       "    <tr style=\"text-align: right;\">\n",
       "      <th></th>\n",
       "      <th>Customer</th>\n",
       "      <th>State</th>\n",
       "      <th>Coverage</th>\n",
       "      <th>Education</th>\n",
       "      <th>Job_Status</th>\n",
       "      <th>Gender</th>\n",
       "      <th>Income</th>\n",
       "      <th>Location</th>\n",
       "      <th>Civil_Status</th>\n",
       "      <th>Monthly_Price</th>\n",
       "      <th>Months_LastClaim</th>\n",
       "      <th>Months_SinceActivation</th>\n",
       "      <th>Number_Open_Complaints</th>\n",
       "      <th>Number_Insurances</th>\n",
       "      <th>Policy_Type</th>\n",
       "      <th>Sales_Channel</th>\n",
       "      <th>Car_Type</th>\n",
       "      <th>Car_Size</th>\n",
       "    </tr>\n",
       "  </thead>\n",
       "  <tbody>\n",
       "    <tr>\n",
       "      <th>6</th>\n",
       "      <td>XZ87318</td>\n",
       "      <td>Oregon</td>\n",
       "      <td>Basic</td>\n",
       "      <td>College</td>\n",
       "      <td>Employed</td>\n",
       "      <td>F</td>\n",
       "      <td>55350</td>\n",
       "      <td>Suburban</td>\n",
       "      <td>Married</td>\n",
       "      <td>67</td>\n",
       "      <td>0</td>\n",
       "      <td>13</td>\n",
       "      <td>0</td>\n",
       "      <td>9</td>\n",
       "      <td>Corporate Auto</td>\n",
       "      <td>Agent</td>\n",
       "      <td>Four-Door Car</td>\n",
       "      <td>Medsize</td>\n",
       "    </tr>\n",
       "    <tr>\n",
       "      <th>74</th>\n",
       "      <td>BN87372</td>\n",
       "      <td>Oregon</td>\n",
       "      <td>Basic</td>\n",
       "      <td>Bachelor</td>\n",
       "      <td>Employed</td>\n",
       "      <td>M</td>\n",
       "      <td>75644</td>\n",
       "      <td>Suburban</td>\n",
       "      <td>Divorced</td>\n",
       "      <td>65</td>\n",
       "      <td>5</td>\n",
       "      <td>68</td>\n",
       "      <td>3</td>\n",
       "      <td>9</td>\n",
       "      <td>Personal Auto</td>\n",
       "      <td>Branch</td>\n",
       "      <td>Two-Door Car</td>\n",
       "      <td>Medsize</td>\n",
       "    </tr>\n",
       "    <tr>\n",
       "      <th>94</th>\n",
       "      <td>ON44465</td>\n",
       "      <td>California</td>\n",
       "      <td>Extended</td>\n",
       "      <td>High School or Below</td>\n",
       "      <td>Unemployed</td>\n",
       "      <td>F</td>\n",
       "      <td>0</td>\n",
       "      <td>Suburban</td>\n",
       "      <td>Single</td>\n",
       "      <td>77</td>\n",
       "      <td>8</td>\n",
       "      <td>10</td>\n",
       "      <td>1</td>\n",
       "      <td>9</td>\n",
       "      <td>Personal Auto</td>\n",
       "      <td>Agent</td>\n",
       "      <td>Four-Door Car</td>\n",
       "      <td>Medsize</td>\n",
       "    </tr>\n",
       "    <tr>\n",
       "      <th>96</th>\n",
       "      <td>KH48895</td>\n",
       "      <td>Arizona</td>\n",
       "      <td>Basic</td>\n",
       "      <td>Master</td>\n",
       "      <td>Medical Leave</td>\n",
       "      <td>F</td>\n",
       "      <td>17780</td>\n",
       "      <td>Rural</td>\n",
       "      <td>Married</td>\n",
       "      <td>109</td>\n",
       "      <td>12</td>\n",
       "      <td>18</td>\n",
       "      <td>0</td>\n",
       "      <td>9</td>\n",
       "      <td>Personal Auto</td>\n",
       "      <td>Branch</td>\n",
       "      <td>SUV</td>\n",
       "      <td>Medsize</td>\n",
       "    </tr>\n",
       "    <tr>\n",
       "      <th>98</th>\n",
       "      <td>RI22468</td>\n",
       "      <td>Arizona</td>\n",
       "      <td>Basic</td>\n",
       "      <td>Bachelor</td>\n",
       "      <td>Employed</td>\n",
       "      <td>F</td>\n",
       "      <td>57740</td>\n",
       "      <td>Urban</td>\n",
       "      <td>Married</td>\n",
       "      <td>74</td>\n",
       "      <td>30</td>\n",
       "      <td>87</td>\n",
       "      <td>3</td>\n",
       "      <td>9</td>\n",
       "      <td>Personal Auto</td>\n",
       "      <td>Web</td>\n",
       "      <td>Four-Door Car</td>\n",
       "      <td>Medsize</td>\n",
       "    </tr>\n",
       "    <tr>\n",
       "      <th>...</th>\n",
       "      <td>...</td>\n",
       "      <td>...</td>\n",
       "      <td>...</td>\n",
       "      <td>...</td>\n",
       "      <td>...</td>\n",
       "      <td>...</td>\n",
       "      <td>...</td>\n",
       "      <td>...</td>\n",
       "      <td>...</td>\n",
       "      <td>...</td>\n",
       "      <td>...</td>\n",
       "      <td>...</td>\n",
       "      <td>...</td>\n",
       "      <td>...</td>\n",
       "      <td>...</td>\n",
       "      <td>...</td>\n",
       "      <td>...</td>\n",
       "      <td>...</td>\n",
       "    </tr>\n",
       "    <tr>\n",
       "      <th>8991</th>\n",
       "      <td>BD12981</td>\n",
       "      <td>California</td>\n",
       "      <td>Basic</td>\n",
       "      <td>College</td>\n",
       "      <td>Employed</td>\n",
       "      <td>F</td>\n",
       "      <td>39337</td>\n",
       "      <td>Urban</td>\n",
       "      <td>Single</td>\n",
       "      <td>74</td>\n",
       "      <td>29</td>\n",
       "      <td>1</td>\n",
       "      <td>1</td>\n",
       "      <td>9</td>\n",
       "      <td>Personal Auto</td>\n",
       "      <td>Agent</td>\n",
       "      <td>Four-Door Car</td>\n",
       "      <td>Medsize</td>\n",
       "    </tr>\n",
       "    <tr>\n",
       "      <th>9006</th>\n",
       "      <td>VC11777</td>\n",
       "      <td>California</td>\n",
       "      <td>Basic</td>\n",
       "      <td>High School or Below</td>\n",
       "      <td>Employed</td>\n",
       "      <td>F</td>\n",
       "      <td>80521</td>\n",
       "      <td>Suburban</td>\n",
       "      <td>Single</td>\n",
       "      <td>65</td>\n",
       "      <td>20</td>\n",
       "      <td>43</td>\n",
       "      <td>2</td>\n",
       "      <td>9</td>\n",
       "      <td>Personal Auto</td>\n",
       "      <td>Branch</td>\n",
       "      <td>Four-Door Car</td>\n",
       "      <td>Small</td>\n",
       "    </tr>\n",
       "    <tr>\n",
       "      <th>9011</th>\n",
       "      <td>NC80854</td>\n",
       "      <td>California</td>\n",
       "      <td>Basic</td>\n",
       "      <td>College</td>\n",
       "      <td>Unemployed</td>\n",
       "      <td>F</td>\n",
       "      <td>0</td>\n",
       "      <td>Suburban</td>\n",
       "      <td>Single</td>\n",
       "      <td>71</td>\n",
       "      <td>22</td>\n",
       "      <td>57</td>\n",
       "      <td>0</td>\n",
       "      <td>9</td>\n",
       "      <td>Personal Auto</td>\n",
       "      <td>Agent</td>\n",
       "      <td>Four-Door Car</td>\n",
       "      <td>Medsize</td>\n",
       "    </tr>\n",
       "    <tr>\n",
       "      <th>9017</th>\n",
       "      <td>WG29557</td>\n",
       "      <td>California</td>\n",
       "      <td>Basic</td>\n",
       "      <td>Master</td>\n",
       "      <td>Employed</td>\n",
       "      <td>M</td>\n",
       "      <td>74919</td>\n",
       "      <td>Urban</td>\n",
       "      <td>Married</td>\n",
       "      <td>63</td>\n",
       "      <td>10</td>\n",
       "      <td>31</td>\n",
       "      <td>0</td>\n",
       "      <td>9</td>\n",
       "      <td>Personal Auto</td>\n",
       "      <td>Branch</td>\n",
       "      <td>Four-Door Car</td>\n",
       "      <td>Medsize</td>\n",
       "    </tr>\n",
       "    <tr>\n",
       "      <th>9106</th>\n",
       "      <td>SJ86522</td>\n",
       "      <td>California</td>\n",
       "      <td>Basic</td>\n",
       "      <td>High School or Below</td>\n",
       "      <td>Unemployed</td>\n",
       "      <td>M</td>\n",
       "      <td>0</td>\n",
       "      <td>Suburban</td>\n",
       "      <td>Single</td>\n",
       "      <td>102</td>\n",
       "      <td>5</td>\n",
       "      <td>26</td>\n",
       "      <td>0</td>\n",
       "      <td>9</td>\n",
       "      <td>Corporate Auto</td>\n",
       "      <td>Agent</td>\n",
       "      <td>SUV</td>\n",
       "      <td>Medsize</td>\n",
       "    </tr>\n",
       "  </tbody>\n",
       "</table>\n",
       "<p>416 rows × 18 columns</p>\n",
       "</div>"
      ],
      "text/plain": [
       "     Customer       State  Coverage             Education     Job_Status  \\\n",
       "6     XZ87318      Oregon     Basic               College       Employed   \n",
       "74    BN87372      Oregon     Basic              Bachelor       Employed   \n",
       "94    ON44465  California  Extended  High School or Below     Unemployed   \n",
       "96    KH48895     Arizona     Basic                Master  Medical Leave   \n",
       "98    RI22468     Arizona     Basic              Bachelor       Employed   \n",
       "...       ...         ...       ...                   ...            ...   \n",
       "8991  BD12981  California     Basic               College       Employed   \n",
       "9006  VC11777  California     Basic  High School or Below       Employed   \n",
       "9011  NC80854  California     Basic               College     Unemployed   \n",
       "9017  WG29557  California     Basic                Master       Employed   \n",
       "9106  SJ86522  California     Basic  High School or Below     Unemployed   \n",
       "\n",
       "     Gender  Income  Location Civil_Status  Monthly_Price  Months_LastClaim  \\\n",
       "6         F   55350  Suburban      Married             67                 0   \n",
       "74        M   75644  Suburban     Divorced             65                 5   \n",
       "94        F       0  Suburban       Single             77                 8   \n",
       "96        F   17780     Rural      Married            109                12   \n",
       "98        F   57740     Urban      Married             74                30   \n",
       "...     ...     ...       ...          ...            ...               ...   \n",
       "8991      F   39337     Urban       Single             74                29   \n",
       "9006      F   80521  Suburban       Single             65                20   \n",
       "9011      F       0  Suburban       Single             71                22   \n",
       "9017      M   74919     Urban      Married             63                10   \n",
       "9106      M       0  Suburban       Single            102                 5   \n",
       "\n",
       "      Months_SinceActivation  Number_Open_Complaints  Number_Insurances  \\\n",
       "6                         13                       0                  9   \n",
       "74                        68                       3                  9   \n",
       "94                        10                       1                  9   \n",
       "96                        18                       0                  9   \n",
       "98                        87                       3                  9   \n",
       "...                      ...                     ...                ...   \n",
       "8991                       1                       1                  9   \n",
       "9006                      43                       2                  9   \n",
       "9011                      57                       0                  9   \n",
       "9017                      31                       0                  9   \n",
       "9106                      26                       0                  9   \n",
       "\n",
       "         Policy_Type Sales_Channel       Car_Type Car_Size  \n",
       "6     Corporate Auto         Agent  Four-Door Car  Medsize  \n",
       "74     Personal Auto        Branch   Two-Door Car  Medsize  \n",
       "94     Personal Auto         Agent  Four-Door Car  Medsize  \n",
       "96     Personal Auto        Branch            SUV  Medsize  \n",
       "98     Personal Auto           Web  Four-Door Car  Medsize  \n",
       "...              ...           ...            ...      ...  \n",
       "8991   Personal Auto         Agent  Four-Door Car  Medsize  \n",
       "9006   Personal Auto        Branch  Four-Door Car    Small  \n",
       "9011   Personal Auto         Agent  Four-Door Car  Medsize  \n",
       "9017   Personal Auto        Branch  Four-Door Car  Medsize  \n",
       "9106  Corporate Auto         Agent            SUV  Medsize  \n",
       "\n",
       "[416 rows x 18 columns]"
      ]
     },
     "execution_count": 376,
     "metadata": {},
     "output_type": "execute_result"
    }
   ],
   "source": [
    "car.query('Number_Insurances > 8') #Taking a look at the rows with >8 insurances issued."
   ]
  },
  {
   "cell_type": "markdown",
   "metadata": {},
   "source": [
    "It does not seem a typo and there are 416 rows of people who are having > 8 insurances."
   ]
  },
  {
   "cell_type": "code",
   "execution_count": 377,
   "metadata": {},
   "outputs": [
    {
     "name": "stdout",
     "output_type": "stream",
     "text": [
      "Number of rows: 416\n",
      "Proportion of > 9 insurances: 4.554412086708999\n"
     ]
    }
   ],
   "source": [
    "print('Number of rows:',len(car.query('Number_Insurances > 8')))\n",
    "print('Proportion of > 9 insurances:',len(car.query('Number_Insurances > 8'))*100/len(car))\n",
    "#Proportion with respect to original dataframe."
   ]
  },
  {
   "cell_type": "markdown",
   "metadata": {},
   "source": [
    "After looking at the number of rows, I will not get rid of 400 rows, because I would be getting rid of many information that could add more information to the other columns where the information is correct."
   ]
  },
  {
   "cell_type": "markdown",
   "metadata": {},
   "source": [
    "###### Outliers combined\n",
    "\n",
    "I am also checking if there is a combined outlier, as row acting as an outlier in different columns. In order to do that I am checking if there are rows with values outside the distribution. \n",
    "\n",
    "\n",
    "Hence in order to be an outlier:\n",
    "- Number_Insurances has to be greater than 8\n",
    "- Number_Open_Complaints has to be greater than 0\n",
    "- Monthly_Price has to be greater > 232 (upper (+3IQR), calculated in the Monthly Price)"
   ]
  },
  {
   "cell_type": "code",
   "execution_count": 378,
   "metadata": {},
   "outputs": [
    {
     "data": {
      "text/html": [
       "<div>\n",
       "<style scoped>\n",
       "    .dataframe tbody tr th:only-of-type {\n",
       "        vertical-align: middle;\n",
       "    }\n",
       "\n",
       "    .dataframe tbody tr th {\n",
       "        vertical-align: top;\n",
       "    }\n",
       "\n",
       "    .dataframe thead th {\n",
       "        text-align: right;\n",
       "    }\n",
       "</style>\n",
       "<table border=\"1\" class=\"dataframe\">\n",
       "  <thead>\n",
       "    <tr style=\"text-align: right;\">\n",
       "      <th></th>\n",
       "      <th>Customer</th>\n",
       "      <th>State</th>\n",
       "      <th>Coverage</th>\n",
       "      <th>Education</th>\n",
       "      <th>Job_Status</th>\n",
       "      <th>Gender</th>\n",
       "      <th>Income</th>\n",
       "      <th>Location</th>\n",
       "      <th>Civil_Status</th>\n",
       "      <th>Monthly_Price</th>\n",
       "      <th>Months_LastClaim</th>\n",
       "      <th>Months_SinceActivation</th>\n",
       "      <th>Number_Open_Complaints</th>\n",
       "      <th>Number_Insurances</th>\n",
       "      <th>Policy_Type</th>\n",
       "      <th>Sales_Channel</th>\n",
       "      <th>Car_Type</th>\n",
       "      <th>Car_Size</th>\n",
       "    </tr>\n",
       "  </thead>\n",
       "  <tbody>\n",
       "  </tbody>\n",
       "</table>\n",
       "</div>"
      ],
      "text/plain": [
       "Empty DataFrame\n",
       "Columns: [Customer, State, Coverage, Education, Job_Status, Gender, Income, Location, Civil_Status, Monthly_Price, Months_LastClaim, Months_SinceActivation, Number_Open_Complaints, Number_Insurances, Policy_Type, Sales_Channel, Car_Type, Car_Size]\n",
       "Index: []"
      ]
     },
     "execution_count": 378,
     "metadata": {},
     "output_type": "execute_result"
    }
   ],
   "source": [
    "#Check if some coincidences between columns with outliers.\n",
    "car.query(f'Number_Insurances > 8 & Number_Open_Complaints > 0 & Monthly_Price > {upper}')"
   ]
  },
  {
   "cell_type": "markdown",
   "metadata": {},
   "source": [
    "There are no combined outliers.\n",
    "\n",
    "We have finished cleaning data for numerical part."
   ]
  },
  {
   "cell_type": "markdown",
   "metadata": {},
   "source": [
    "### Categorical data\n",
    "###### Cleaning categorical data.\n",
    "\n",
    "Let's check if there are mispellings or strange names."
   ]
  },
  {
   "cell_type": "code",
   "execution_count": 379,
   "metadata": {},
   "outputs": [
    {
     "data": {
      "text/plain": [
       "California    3150\n",
       "Oregon        2601\n",
       "Arizona       1703\n",
       "Nevada         882\n",
       "Washington     798\n",
       "Name: State, dtype: int64"
      ]
     },
     "execution_count": 379,
     "metadata": {},
     "output_type": "execute_result"
    }
   ],
   "source": [
    "car['State'].value_counts() #State column does not present anomalies."
   ]
  },
  {
   "cell_type": "code",
   "execution_count": 380,
   "metadata": {},
   "outputs": [
    {
     "data": {
      "text/plain": [
       "Basic       5568\n",
       "Extended    2742\n",
       "Premium      824\n",
       "Name: Coverage, dtype: int64"
      ]
     },
     "execution_count": 380,
     "metadata": {},
     "output_type": "execute_result"
    }
   ],
   "source": [
    "car['Coverage'].value_counts()"
   ]
  },
  {
   "cell_type": "code",
   "execution_count": 381,
   "metadata": {},
   "outputs": [
    {
     "data": {
      "text/plain": [
       "Bachelor                2748\n",
       "College                 2681\n",
       "High School or Below    2622\n",
       "Master                   741\n",
       "Doctor                   342\n",
       "Name: Education, dtype: int64"
      ]
     },
     "execution_count": 381,
     "metadata": {},
     "output_type": "execute_result"
    }
   ],
   "source": [
    "car['Education'].value_counts()"
   ]
  },
  {
   "cell_type": "code",
   "execution_count": 382,
   "metadata": {},
   "outputs": [
    {
     "data": {
      "text/plain": [
       "Employed         5698\n",
       "Unemployed       2317\n",
       "Medical Leave     432\n",
       "Disabled          405\n",
       "Retired           282\n",
       "Name: Job_Status, dtype: int64"
      ]
     },
     "execution_count": 382,
     "metadata": {},
     "output_type": "execute_result"
    }
   ],
   "source": [
    "car['Job_Status'].value_counts()"
   ]
  },
  {
   "cell_type": "code",
   "execution_count": 383,
   "metadata": {},
   "outputs": [
    {
     "data": {
      "text/plain": [
       "F    4658\n",
       "M    4476\n",
       "Name: Gender, dtype: int64"
      ]
     },
     "execution_count": 383,
     "metadata": {},
     "output_type": "execute_result"
    }
   ],
   "source": [
    "car['Gender'].value_counts()"
   ]
  },
  {
   "cell_type": "code",
   "execution_count": 384,
   "metadata": {},
   "outputs": [
    {
     "data": {
      "text/plain": [
       "Suburban    5779\n",
       "Rural       1773\n",
       "Urban       1582\n",
       "Name: Location, dtype: int64"
      ]
     },
     "execution_count": 384,
     "metadata": {},
     "output_type": "execute_result"
    }
   ],
   "source": [
    "car['Location'].value_counts()"
   ]
  },
  {
   "cell_type": "code",
   "execution_count": 385,
   "metadata": {},
   "outputs": [
    {
     "data": {
      "text/plain": [
       "Married     5298\n",
       "Single      2467\n",
       "Divorced    1369\n",
       "Name: Civil_Status, dtype: int64"
      ]
     },
     "execution_count": 385,
     "metadata": {},
     "output_type": "execute_result"
    }
   ],
   "source": [
    "car['Civil_Status'].value_counts()"
   ]
  },
  {
   "cell_type": "code",
   "execution_count": 389,
   "metadata": {},
   "outputs": [
    {
     "data": {
      "text/plain": [
       "Personal Auto     6788\n",
       "Corporate Auto    1968\n",
       "Special Auto       378\n",
       "Name: Policy_Type, dtype: int64"
      ]
     },
     "execution_count": 389,
     "metadata": {},
     "output_type": "execute_result"
    }
   ],
   "source": [
    "car['Policy_Type'].value_counts()"
   ]
  },
  {
   "cell_type": "code",
   "execution_count": 391,
   "metadata": {},
   "outputs": [
    {
     "data": {
      "text/plain": [
       "Agent          3477\n",
       "Branch         2567\n",
       "Call Center    1765\n",
       "Web            1325\n",
       "Name: Sales_Channel, dtype: int64"
      ]
     },
     "execution_count": 391,
     "metadata": {},
     "output_type": "execute_result"
    }
   ],
   "source": [
    "car['Sales_Channel'].value_counts()"
   ]
  },
  {
   "cell_type": "markdown",
   "metadata": {},
   "source": [
    "There are no typos and anormalities in the categorical variables."
   ]
  },
  {
   "cell_type": "code",
   "execution_count": 393,
   "metadata": {},
   "outputs": [],
   "source": [
    "car.to_csv('../Data/Clean_Insurance_USA.csv')"
   ]
  },
  {
   "cell_type": "markdown",
   "metadata": {},
   "source": [
    "In the cell above I have saved the cleaned file in Data folder."
   ]
  }
 ],
 "metadata": {
  "kernelspec": {
   "display_name": "Python 3",
   "language": "python",
   "name": "python3"
  },
  "language_info": {
   "codemirror_mode": {
    "name": "ipython",
    "version": 3
   },
   "file_extension": ".py",
   "mimetype": "text/x-python",
   "name": "python",
   "nbconvert_exporter": "python",
   "pygments_lexer": "ipython3",
   "version": "3.7.3"
  }
 },
 "nbformat": 4,
 "nbformat_minor": 2
}
